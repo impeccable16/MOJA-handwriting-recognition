{
  "nbformat": 4,
  "nbformat_minor": 0,
  "metadata": {
    "colab": {
      "provenance": [],
      "collapsed_sections": [],
      "mount_file_id": "1H4s8uNplTrJxbgIsIyu8AK7ATCX-TfHJ",
      "authorship_tag": "ABX9TyNTjNdbb9kmKH2w85Pa/S5g",
      "include_colab_link": true
    },
    "kernelspec": {
      "name": "python3",
      "display_name": "Python 3"
    },
    "language_info": {
      "name": "python"
    }
  },
  "cells": [
    {
      "cell_type": "markdown",
      "metadata": {
        "id": "view-in-github",
        "colab_type": "text"
      },
      "source": [
        "<a href=\"https://colab.research.google.com/github/impeccable16/MOJA-handwriting-recognition/blob/main/neural-network.ipynb\" target=\"_parent\"><img src=\"https://colab.research.google.com/assets/colab-badge.svg\" alt=\"Open In Colab\"/></a>"
      ]
    },
    {
      "cell_type": "code",
      "execution_count": null,
      "metadata": {
        "id": "6vUSHClZirpR"
      },
      "outputs": [],
      "source": [
        "import torch\n",
        "import sklearn\n",
        "import pandas as pd"
      ]
    },
    {
      "cell_type": "code",
      "source": [
        "from sklearn.datasets import make_classification\n",
        "torch.manual_seed(123) #generate random number"
      ],
      "metadata": {
        "colab": {
          "base_uri": "https://localhost:8080/"
        },
        "id": "ng_6S0nYjV4V",
        "outputId": "e9adf84b-5248-4d70-ffb1-7a9cb423c17b"
      },
      "execution_count": null,
      "outputs": [
        {
          "output_type": "execute_result",
          "data": {
            "text/plain": [
              "<torch._C.Generator at 0x7f638d5b47d0>"
            ]
          },
          "metadata": {},
          "execution_count": 34
        }
      ]
    },
    {
      "cell_type": "code",
      "source": [
        "df = pd.read_csv('/content/star_classification.csv')\n",
        "print(df)\n"
      ],
      "metadata": {
        "colab": {
          "base_uri": "https://localhost:8080/"
        },
        "id": "5NpApgpMrOp9",
        "outputId": "504dad4d-9627-41e6-a832-8a5489a7c8dd"
      },
      "execution_count": null,
      "outputs": [
        {
          "output_type": "stream",
          "name": "stdout",
          "text": [
            "             obj_ID       alpha      delta         u         g         r  \\\n",
            "0      1.237661e+18  135.689107  32.494632  23.87882  22.27530  20.39501   \n",
            "1      1.237665e+18  144.826101  31.274185  24.77759  22.83188  22.58444   \n",
            "2      1.237661e+18  142.188790  35.582444  25.26307  22.66389  20.60976   \n",
            "3      1.237663e+18  338.741038  -0.402828  22.13682  23.77656  21.61162   \n",
            "4      1.237680e+18  345.282593  21.183866  19.43718  17.58028  16.49747   \n",
            "...             ...         ...        ...       ...       ...       ...   \n",
            "56317  1.237659e+18  215.472095  55.583002  21.20926  20.21335  19.91495   \n",
            "56318  1.237665e+18  172.410880  35.514648  15.79500  14.20551  13.47841   \n",
            "56319  1.237667e+18  166.191736  26.100734  18.97650  17.84026  17.25278   \n",
            "56320  1.237649e+18  230.893203   0.267428  25.22322  22.69935  20.91212   \n",
            "56321  1.237649e+18  145.016480   0.248985  19.67851  18.39820  17.69079   \n",
            "\n",
            "              i         z  run_ID  rerun_ID  cam_col  field_ID   spec_obj_ID  \\\n",
            "0      19.16573  18.79371    3606       301      2.0      79.0  6.543777e+18   \n",
            "1      21.16812  21.61427    4518       301      5.0     119.0  1.176014e+19   \n",
            "2      19.34857  18.94827    3606       301      2.0     120.0  5.152200e+18   \n",
            "3      20.50454  19.25010    4192       301      3.0     214.0  1.030107e+19   \n",
            "4      15.97711  15.54461    8102       301      3.0     137.0  6.891865e+18   \n",
            "...         ...       ...     ...       ...      ...       ...           ...   \n",
            "56317  19.81661  19.71912    3225       301      2.0      62.0  2.771990e+18   \n",
            "56318  13.09324  12.75974    4552       301      6.0      32.0  2.379070e+18   \n",
            "56319  16.88653  16.67588    5112       301      3.0     369.0  2.490553e+18   \n",
            "56320  19.72128  19.36029     756       301      4.0     769.0  4.517313e+18   \n",
            "56321  17.28973  17.03657     756       301      NaN       NaN           NaN   \n",
            "\n",
            "        class  redshift    plate      MJD  fiber_ID  \n",
            "0      GALAXY  0.634794   5812.0  56354.0     171.0  \n",
            "1      GALAXY  0.779136  10445.0  58158.0     427.0  \n",
            "2      GALAXY  0.644195   4576.0  55592.0     299.0  \n",
            "3      GALAXY  0.932346   9149.0  58039.0     775.0  \n",
            "4      GALAXY  0.116123   6121.0  56187.0     842.0  \n",
            "...       ...       ...      ...      ...       ...  \n",
            "56317    STAR  0.000037   2462.0  54561.0      88.0  \n",
            "56318  GALAXY  0.030337   2113.0  53468.0     157.0  \n",
            "56319  GALAXY  0.077817   2212.0  53789.0     226.0  \n",
            "56320  GALAXY  0.588114   4012.0  55327.0     737.0  \n",
            "56321     NaN       NaN      NaN      NaN       NaN  \n",
            "\n",
            "[56322 rows x 18 columns]\n"
          ]
        }
      ]
    },
    {
      "cell_type": "code",
      "source": [
        "df.head"
      ],
      "metadata": {
        "colab": {
          "base_uri": "https://localhost:8080/"
        },
        "id": "EmTVfUsKrlUd",
        "outputId": "06ed699f-6e22-4866-9833-c0d3ef6d67fa"
      },
      "execution_count": null,
      "outputs": [
        {
          "output_type": "execute_result",
          "data": {
            "text/plain": [
              "<bound method NDFrame.head of              obj_ID       alpha      delta         u         g         r  \\\n",
              "0      1.237661e+18  135.689107  32.494632  23.87882  22.27530  20.39501   \n",
              "1      1.237665e+18  144.826101  31.274185  24.77759  22.83188  22.58444   \n",
              "2      1.237661e+18  142.188790  35.582444  25.26307  22.66389  20.60976   \n",
              "3      1.237663e+18  338.741038  -0.402828  22.13682  23.77656  21.61162   \n",
              "4      1.237680e+18  345.282593  21.183866  19.43718  17.58028  16.49747   \n",
              "...             ...         ...        ...       ...       ...       ...   \n",
              "56317  1.237659e+18  215.472095  55.583002  21.20926  20.21335  19.91495   \n",
              "56318  1.237665e+18  172.410880  35.514648  15.79500  14.20551  13.47841   \n",
              "56319  1.237667e+18  166.191736  26.100734  18.97650  17.84026  17.25278   \n",
              "56320  1.237649e+18  230.893203   0.267428  25.22322  22.69935  20.91212   \n",
              "56321  1.237649e+18  145.016480   0.248985  19.67851  18.39820  17.69079   \n",
              "\n",
              "              i         z  run_ID  rerun_ID  cam_col  field_ID   spec_obj_ID  \\\n",
              "0      19.16573  18.79371    3606       301      2.0      79.0  6.543777e+18   \n",
              "1      21.16812  21.61427    4518       301      5.0     119.0  1.176014e+19   \n",
              "2      19.34857  18.94827    3606       301      2.0     120.0  5.152200e+18   \n",
              "3      20.50454  19.25010    4192       301      3.0     214.0  1.030107e+19   \n",
              "4      15.97711  15.54461    8102       301      3.0     137.0  6.891865e+18   \n",
              "...         ...       ...     ...       ...      ...       ...           ...   \n",
              "56317  19.81661  19.71912    3225       301      2.0      62.0  2.771990e+18   \n",
              "56318  13.09324  12.75974    4552       301      6.0      32.0  2.379070e+18   \n",
              "56319  16.88653  16.67588    5112       301      3.0     369.0  2.490553e+18   \n",
              "56320  19.72128  19.36029     756       301      4.0     769.0  4.517313e+18   \n",
              "56321  17.28973  17.03657     756       301      NaN       NaN           NaN   \n",
              "\n",
              "        class  redshift    plate      MJD  fiber_ID  \n",
              "0      GALAXY  0.634794   5812.0  56354.0     171.0  \n",
              "1      GALAXY  0.779136  10445.0  58158.0     427.0  \n",
              "2      GALAXY  0.644195   4576.0  55592.0     299.0  \n",
              "3      GALAXY  0.932346   9149.0  58039.0     775.0  \n",
              "4      GALAXY  0.116123   6121.0  56187.0     842.0  \n",
              "...       ...       ...      ...      ...       ...  \n",
              "56317    STAR  0.000037   2462.0  54561.0      88.0  \n",
              "56318  GALAXY  0.030337   2113.0  53468.0     157.0  \n",
              "56319  GALAXY  0.077817   2212.0  53789.0     226.0  \n",
              "56320  GALAXY  0.588114   4012.0  55327.0     737.0  \n",
              "56321     NaN       NaN      NaN      NaN       NaN  \n",
              "\n",
              "[56322 rows x 18 columns]>"
            ]
          },
          "metadata": {},
          "execution_count": 79
        }
      ]
    },
    {
      "cell_type": "code",
      "source": [
        "df.describe()"
      ],
      "metadata": {
        "colab": {
          "base_uri": "https://localhost:8080/",
          "height": 364
        },
        "id": "Fz3hoLdQrp8u",
        "outputId": "ad3e1a40-c456-4336-9b32-64dc2bd4693a"
      },
      "execution_count": null,
      "outputs": [
        {
          "output_type": "execute_result",
          "data": {
            "text/plain": [
              "             obj_ID         alpha         delta             u             g  \\\n",
              "count  5.632200e+04  56322.000000  56322.000000  56322.000000  56322.000000   \n",
              "mean   1.237665e+18    179.268285     23.691691     22.069973     20.622798   \n",
              "std    8.462639e+12     95.833658     19.736554      2.239398      2.027254   \n",
              "min    1.237646e+18      0.005528    -16.847136     12.262400     10.511390   \n",
              "25%    1.237658e+18    127.457360      4.009991     20.348063     18.971563   \n",
              "50%    1.237663e+18    179.802816     22.338558     22.165280     21.080250   \n",
              "75%    1.237669e+18    235.043602     39.574622     23.670503     22.108950   \n",
              "max    1.237681e+18    359.999810     83.000519     30.660390     31.602240   \n",
              "\n",
              "                  r             i             z        run_ID  rerun_ID  \\\n",
              "count  56322.000000  56322.000000  56322.000000  56322.000000   56322.0   \n",
              "mean      19.643790     19.087350     18.775147   4444.163808     301.0   \n",
              "std        1.847772      1.753500      1.765400   1970.378336       0.0   \n",
              "min        9.822070      9.469903      9.612333    109.000000     301.0   \n",
              "25%       18.140922     17.739838     17.467675   3015.000000     301.0   \n",
              "50%       20.112755     19.398635     19.003520   4192.000000     301.0   \n",
              "75%       21.032893     20.396413     19.924903   5362.000000     301.0   \n",
              "max       29.571860     30.250090     29.383740   8162.000000     301.0   \n",
              "\n",
              "            cam_col      field_ID   spec_obj_ID      redshift         plate  \\\n",
              "count  56321.000000  56321.000000  5.632100e+04  56321.000000  56321.000000   \n",
              "mean       3.587063    193.042932  5.716614e+18      0.574819   5077.262282   \n",
              "std        1.580102    156.806471  3.334196e+18      0.733070   2961.345751   \n",
              "min        1.000000     11.000000  2.995793e+17     -0.009971    266.000000   \n",
              "25%        2.000000     83.000000  2.777727e+18      0.050472   2467.000000   \n",
              "50%        4.000000    153.000000  5.459580e+18      0.417515   4849.000000   \n",
              "75%        5.000000    248.000000  8.253048e+18      0.703568   7330.000000   \n",
              "max        6.000000    980.000000  1.412693e+19      7.011245  12547.000000   \n",
              "\n",
              "                MJD      fiber_ID  \n",
              "count  56321.000000  56321.000000  \n",
              "mean   55548.838195    452.706113  \n",
              "std     1817.754038    270.218825  \n",
              "min    51608.000000      1.000000  \n",
              "25%    54178.000000    229.000000  \n",
              "50%    55852.000000    439.000000  \n",
              "75%    56746.000000    644.000000  \n",
              "max    58932.000000   1000.000000  "
            ],
            "text/html": [
              "\n",
              "  <div id=\"df-bdcf81cc-2aab-4d17-abfd-da6d0d758ec5\">\n",
              "    <div class=\"colab-df-container\">\n",
              "      <div>\n",
              "<style scoped>\n",
              "    .dataframe tbody tr th:only-of-type {\n",
              "        vertical-align: middle;\n",
              "    }\n",
              "\n",
              "    .dataframe tbody tr th {\n",
              "        vertical-align: top;\n",
              "    }\n",
              "\n",
              "    .dataframe thead th {\n",
              "        text-align: right;\n",
              "    }\n",
              "</style>\n",
              "<table border=\"1\" class=\"dataframe\">\n",
              "  <thead>\n",
              "    <tr style=\"text-align: right;\">\n",
              "      <th></th>\n",
              "      <th>obj_ID</th>\n",
              "      <th>alpha</th>\n",
              "      <th>delta</th>\n",
              "      <th>u</th>\n",
              "      <th>g</th>\n",
              "      <th>r</th>\n",
              "      <th>i</th>\n",
              "      <th>z</th>\n",
              "      <th>run_ID</th>\n",
              "      <th>rerun_ID</th>\n",
              "      <th>cam_col</th>\n",
              "      <th>field_ID</th>\n",
              "      <th>spec_obj_ID</th>\n",
              "      <th>redshift</th>\n",
              "      <th>plate</th>\n",
              "      <th>MJD</th>\n",
              "      <th>fiber_ID</th>\n",
              "    </tr>\n",
              "  </thead>\n",
              "  <tbody>\n",
              "    <tr>\n",
              "      <th>count</th>\n",
              "      <td>5.632200e+04</td>\n",
              "      <td>56322.000000</td>\n",
              "      <td>56322.000000</td>\n",
              "      <td>56322.000000</td>\n",
              "      <td>56322.000000</td>\n",
              "      <td>56322.000000</td>\n",
              "      <td>56322.000000</td>\n",
              "      <td>56322.000000</td>\n",
              "      <td>56322.000000</td>\n",
              "      <td>56322.0</td>\n",
              "      <td>56321.000000</td>\n",
              "      <td>56321.000000</td>\n",
              "      <td>5.632100e+04</td>\n",
              "      <td>56321.000000</td>\n",
              "      <td>56321.000000</td>\n",
              "      <td>56321.000000</td>\n",
              "      <td>56321.000000</td>\n",
              "    </tr>\n",
              "    <tr>\n",
              "      <th>mean</th>\n",
              "      <td>1.237665e+18</td>\n",
              "      <td>179.268285</td>\n",
              "      <td>23.691691</td>\n",
              "      <td>22.069973</td>\n",
              "      <td>20.622798</td>\n",
              "      <td>19.643790</td>\n",
              "      <td>19.087350</td>\n",
              "      <td>18.775147</td>\n",
              "      <td>4444.163808</td>\n",
              "      <td>301.0</td>\n",
              "      <td>3.587063</td>\n",
              "      <td>193.042932</td>\n",
              "      <td>5.716614e+18</td>\n",
              "      <td>0.574819</td>\n",
              "      <td>5077.262282</td>\n",
              "      <td>55548.838195</td>\n",
              "      <td>452.706113</td>\n",
              "    </tr>\n",
              "    <tr>\n",
              "      <th>std</th>\n",
              "      <td>8.462639e+12</td>\n",
              "      <td>95.833658</td>\n",
              "      <td>19.736554</td>\n",
              "      <td>2.239398</td>\n",
              "      <td>2.027254</td>\n",
              "      <td>1.847772</td>\n",
              "      <td>1.753500</td>\n",
              "      <td>1.765400</td>\n",
              "      <td>1970.378336</td>\n",
              "      <td>0.0</td>\n",
              "      <td>1.580102</td>\n",
              "      <td>156.806471</td>\n",
              "      <td>3.334196e+18</td>\n",
              "      <td>0.733070</td>\n",
              "      <td>2961.345751</td>\n",
              "      <td>1817.754038</td>\n",
              "      <td>270.218825</td>\n",
              "    </tr>\n",
              "    <tr>\n",
              "      <th>min</th>\n",
              "      <td>1.237646e+18</td>\n",
              "      <td>0.005528</td>\n",
              "      <td>-16.847136</td>\n",
              "      <td>12.262400</td>\n",
              "      <td>10.511390</td>\n",
              "      <td>9.822070</td>\n",
              "      <td>9.469903</td>\n",
              "      <td>9.612333</td>\n",
              "      <td>109.000000</td>\n",
              "      <td>301.0</td>\n",
              "      <td>1.000000</td>\n",
              "      <td>11.000000</td>\n",
              "      <td>2.995793e+17</td>\n",
              "      <td>-0.009971</td>\n",
              "      <td>266.000000</td>\n",
              "      <td>51608.000000</td>\n",
              "      <td>1.000000</td>\n",
              "    </tr>\n",
              "    <tr>\n",
              "      <th>25%</th>\n",
              "      <td>1.237658e+18</td>\n",
              "      <td>127.457360</td>\n",
              "      <td>4.009991</td>\n",
              "      <td>20.348063</td>\n",
              "      <td>18.971563</td>\n",
              "      <td>18.140922</td>\n",
              "      <td>17.739838</td>\n",
              "      <td>17.467675</td>\n",
              "      <td>3015.000000</td>\n",
              "      <td>301.0</td>\n",
              "      <td>2.000000</td>\n",
              "      <td>83.000000</td>\n",
              "      <td>2.777727e+18</td>\n",
              "      <td>0.050472</td>\n",
              "      <td>2467.000000</td>\n",
              "      <td>54178.000000</td>\n",
              "      <td>229.000000</td>\n",
              "    </tr>\n",
              "    <tr>\n",
              "      <th>50%</th>\n",
              "      <td>1.237663e+18</td>\n",
              "      <td>179.802816</td>\n",
              "      <td>22.338558</td>\n",
              "      <td>22.165280</td>\n",
              "      <td>21.080250</td>\n",
              "      <td>20.112755</td>\n",
              "      <td>19.398635</td>\n",
              "      <td>19.003520</td>\n",
              "      <td>4192.000000</td>\n",
              "      <td>301.0</td>\n",
              "      <td>4.000000</td>\n",
              "      <td>153.000000</td>\n",
              "      <td>5.459580e+18</td>\n",
              "      <td>0.417515</td>\n",
              "      <td>4849.000000</td>\n",
              "      <td>55852.000000</td>\n",
              "      <td>439.000000</td>\n",
              "    </tr>\n",
              "    <tr>\n",
              "      <th>75%</th>\n",
              "      <td>1.237669e+18</td>\n",
              "      <td>235.043602</td>\n",
              "      <td>39.574622</td>\n",
              "      <td>23.670503</td>\n",
              "      <td>22.108950</td>\n",
              "      <td>21.032893</td>\n",
              "      <td>20.396413</td>\n",
              "      <td>19.924903</td>\n",
              "      <td>5362.000000</td>\n",
              "      <td>301.0</td>\n",
              "      <td>5.000000</td>\n",
              "      <td>248.000000</td>\n",
              "      <td>8.253048e+18</td>\n",
              "      <td>0.703568</td>\n",
              "      <td>7330.000000</td>\n",
              "      <td>56746.000000</td>\n",
              "      <td>644.000000</td>\n",
              "    </tr>\n",
              "    <tr>\n",
              "      <th>max</th>\n",
              "      <td>1.237681e+18</td>\n",
              "      <td>359.999810</td>\n",
              "      <td>83.000519</td>\n",
              "      <td>30.660390</td>\n",
              "      <td>31.602240</td>\n",
              "      <td>29.571860</td>\n",
              "      <td>30.250090</td>\n",
              "      <td>29.383740</td>\n",
              "      <td>8162.000000</td>\n",
              "      <td>301.0</td>\n",
              "      <td>6.000000</td>\n",
              "      <td>980.000000</td>\n",
              "      <td>1.412693e+19</td>\n",
              "      <td>7.011245</td>\n",
              "      <td>12547.000000</td>\n",
              "      <td>58932.000000</td>\n",
              "      <td>1000.000000</td>\n",
              "    </tr>\n",
              "  </tbody>\n",
              "</table>\n",
              "</div>\n",
              "      <button class=\"colab-df-convert\" onclick=\"convertToInteractive('df-bdcf81cc-2aab-4d17-abfd-da6d0d758ec5')\"\n",
              "              title=\"Convert this dataframe to an interactive table.\"\n",
              "              style=\"display:none;\">\n",
              "        \n",
              "  <svg xmlns=\"http://www.w3.org/2000/svg\" height=\"24px\"viewBox=\"0 0 24 24\"\n",
              "       width=\"24px\">\n",
              "    <path d=\"M0 0h24v24H0V0z\" fill=\"none\"/>\n",
              "    <path d=\"M18.56 5.44l.94 2.06.94-2.06 2.06-.94-2.06-.94-.94-2.06-.94 2.06-2.06.94zm-11 1L8.5 8.5l.94-2.06 2.06-.94-2.06-.94L8.5 2.5l-.94 2.06-2.06.94zm10 10l.94 2.06.94-2.06 2.06-.94-2.06-.94-.94-2.06-.94 2.06-2.06.94z\"/><path d=\"M17.41 7.96l-1.37-1.37c-.4-.4-.92-.59-1.43-.59-.52 0-1.04.2-1.43.59L10.3 9.45l-7.72 7.72c-.78.78-.78 2.05 0 2.83L4 21.41c.39.39.9.59 1.41.59.51 0 1.02-.2 1.41-.59l7.78-7.78 2.81-2.81c.8-.78.8-2.07 0-2.86zM5.41 20L4 18.59l7.72-7.72 1.47 1.35L5.41 20z\"/>\n",
              "  </svg>\n",
              "      </button>\n",
              "      \n",
              "  <style>\n",
              "    .colab-df-container {\n",
              "      display:flex;\n",
              "      flex-wrap:wrap;\n",
              "      gap: 12px;\n",
              "    }\n",
              "\n",
              "    .colab-df-convert {\n",
              "      background-color: #E8F0FE;\n",
              "      border: none;\n",
              "      border-radius: 50%;\n",
              "      cursor: pointer;\n",
              "      display: none;\n",
              "      fill: #1967D2;\n",
              "      height: 32px;\n",
              "      padding: 0 0 0 0;\n",
              "      width: 32px;\n",
              "    }\n",
              "\n",
              "    .colab-df-convert:hover {\n",
              "      background-color: #E2EBFA;\n",
              "      box-shadow: 0px 1px 2px rgba(60, 64, 67, 0.3), 0px 1px 3px 1px rgba(60, 64, 67, 0.15);\n",
              "      fill: #174EA6;\n",
              "    }\n",
              "\n",
              "    [theme=dark] .colab-df-convert {\n",
              "      background-color: #3B4455;\n",
              "      fill: #D2E3FC;\n",
              "    }\n",
              "\n",
              "    [theme=dark] .colab-df-convert:hover {\n",
              "      background-color: #434B5C;\n",
              "      box-shadow: 0px 1px 3px 1px rgba(0, 0, 0, 0.15);\n",
              "      filter: drop-shadow(0px 1px 2px rgba(0, 0, 0, 0.3));\n",
              "      fill: #FFFFFF;\n",
              "    }\n",
              "  </style>\n",
              "\n",
              "      <script>\n",
              "        const buttonEl =\n",
              "          document.querySelector('#df-bdcf81cc-2aab-4d17-abfd-da6d0d758ec5 button.colab-df-convert');\n",
              "        buttonEl.style.display =\n",
              "          google.colab.kernel.accessAllowed ? 'block' : 'none';\n",
              "\n",
              "        async function convertToInteractive(key) {\n",
              "          const element = document.querySelector('#df-bdcf81cc-2aab-4d17-abfd-da6d0d758ec5');\n",
              "          const dataTable =\n",
              "            await google.colab.kernel.invokeFunction('convertToInteractive',\n",
              "                                                     [key], {});\n",
              "          if (!dataTable) return;\n",
              "\n",
              "          const docLinkHtml = 'Like what you see? Visit the ' +\n",
              "            '<a target=\"_blank\" href=https://colab.research.google.com/notebooks/data_table.ipynb>data table notebook</a>'\n",
              "            + ' to learn more about interactive tables.';\n",
              "          element.innerHTML = '';\n",
              "          dataTable['output_type'] = 'display_data';\n",
              "          await google.colab.output.renderOutput(dataTable, element);\n",
              "          const docLink = document.createElement('div');\n",
              "          docLink.innerHTML = docLinkHtml;\n",
              "          element.appendChild(docLink);\n",
              "        }\n",
              "      </script>\n",
              "    </div>\n",
              "  </div>\n",
              "  "
            ]
          },
          "metadata": {},
          "execution_count": 80
        }
      ]
    },
    {
      "cell_type": "code",
      "source": [
        "df.shape"
      ],
      "metadata": {
        "colab": {
          "base_uri": "https://localhost:8080/"
        },
        "id": "bW8Ot-6YrwWg",
        "outputId": "efefe602-c106-43c1-ef5b-d329e2677c20"
      },
      "execution_count": null,
      "outputs": [
        {
          "output_type": "execute_result",
          "data": {
            "text/plain": [
              "(56322, 18)"
            ]
          },
          "metadata": {},
          "execution_count": 81
        }
      ]
    },
    {
      "cell_type": "code",
      "source": [
        "\n",
        "X,y=make_classification(n_samples=1000,n_features=4 ,n_classes=2)\n",
        "\n",
        "\n",
        "X=torch.tensor(X,dtype=torch.float32)\n",
        "y=torch.tensor(y,dtype=torch.float32)"
      ],
      "metadata": {
        "id": "LRmVqbu_jimi"
      },
      "execution_count": null,
      "outputs": []
    },
    {
      "cell_type": "code",
      "source": [
        "\n",
        "torch.manual_seed(20)\n",
        "suffle_idx=torch.randperm(y.size(0),dtype=torch.long)\n",
        "X,y=X[suffle_idx],y[suffle_idx]\n",
        "suffle_idx[:20]"
      ],
      "metadata": {
        "colab": {
          "base_uri": "https://localhost:8080/"
        },
        "id": "7bXDA6YOjsEx",
        "outputId": "fa94216f-4bac-4d25-c15f-0aa865f235b7"
      },
      "execution_count": null,
      "outputs": [
        {
          "output_type": "execute_result",
          "data": {
            "text/plain": [
              "tensor([531, 470, 843,  18, 220, 430, 155, 160, 691, 626,  47, 936, 364, 990,\n",
              "         86,  81, 306, 150, 503, 984])"
            ]
          },
          "metadata": {},
          "execution_count": 117
        }
      ]
    },
    {
      "cell_type": "code",
      "source": [
        "\n",
        "train_size=int(suffle_idx.size(0)*0.7)\n",
        "train_idx= suffle_idx[:train_size]\n",
        "test_idx=suffle_idx[train_size:]\n",
        "X_train,y_train=X[train_idx],y[train_idx]\n",
        "X_test,y_test=X[test_idx],y[test_idx]"
      ],
      "metadata": {
        "id": "nWj5hHl9jzHP"
      },
      "execution_count": null,
      "outputs": []
    },
    {
      "cell_type": "code",
      "source": [
        "X_train.shape"
      ],
      "metadata": {
        "colab": {
          "base_uri": "https://localhost:8080/"
        },
        "id": "4BaeYUXmj5gx",
        "outputId": "f964b531-006d-4ca4-f840-72c830451361"
      },
      "execution_count": null,
      "outputs": [
        {
          "output_type": "execute_result",
          "data": {
            "text/plain": [
              "torch.Size([700, 4])"
            ]
          },
          "metadata": {},
          "execution_count": 100
        }
      ]
    },
    {
      "cell_type": "code",
      "source": [
        "X_test.shape"
      ],
      "metadata": {
        "colab": {
          "base_uri": "https://localhost:8080/"
        },
        "id": "vM7wbqYej-ol",
        "outputId": "c94211c0-7d7a-4e27-e8ea-a9e5ca58c07e"
      },
      "execution_count": null,
      "outputs": [
        {
          "output_type": "execute_result",
          "data": {
            "text/plain": [
              "torch.Size([300, 4])"
            ]
          },
          "metadata": {},
          "execution_count": 101
        }
      ]
    },
    {
      "cell_type": "code",
      "source": [
        "\n",
        "\n",
        "mean,std_dev=X_train.mean(dim=0) ,X_train.std(dim=0)\n",
        "X_train=(X_train-mean)/std_dev\n",
        "X_test=(X_test-mean)/std_dev"
      ],
      "metadata": {
        "id": "8iG-FPONj-sf"
      },
      "execution_count": null,
      "outputs": []
    },
    {
      "cell_type": "code",
      "source": [
        "import torch.nn as nn\n",
        "from torch.autograd import grad"
      ],
      "metadata": {
        "id": "6Sum_q2Qj-vP"
      },
      "execution_count": null,
      "outputs": []
    },
    {
      "cell_type": "code",
      "source": [
        "class NN():\n",
        "  def __init__(self,n_features):\n",
        "    self.n_features=n_features\n",
        "    self.weight=torch.zeros(size=(n_features,1),dtype=torch.float,requires_grad=True)\n",
        "    self.bias=torch.zeros(1,dtype=torch.float,requires_grad=True)\n",
        "  \n",
        "\n",
        "  def forward(self,x):\n",
        "    output=torch.add(torch.mm(x,self.weight),self.bias)\n",
        "    return output.view(-1)\n",
        "\n",
        "def loss_fn(yhat,y):\n",
        "  return torch.mean((yhat-y)**2)\n"
      ],
      "metadata": {
        "id": "W6f-rNQfkLzH"
      },
      "execution_count": null,
      "outputs": []
    },
    {
      "cell_type": "code",
      "source": [
        "def train(model,x,y,n_epoch=15,lr=0.001,seed=24,bsz=50):\n",
        "\n",
        "  cost=[]\n",
        "  torch.manual_seed(seed)\n",
        "  for i in range(n_epoch):\n",
        "    suffle_idx=torch.randperm(y.size(0))\n",
        "    batches=torch.split(suffle_idx,bsz)\n",
        "\n",
        "    for idx in batches:\n",
        "\n",
        "      ###1. Compute the output\n",
        "      yhat=model.forward(x[idx])\n",
        "\n",
        "      ###2. Compute the Error\n",
        "      loss=loss_fn(yhat,y[idx])\n",
        "\n",
        "      ###3. Compute the gradient\n",
        "      grad_w=grad(loss,model.weight,retain_graph=True)[0]\n",
        "      grad_b=grad(loss,model.bias)[0]\n",
        "\n",
        "      ###4. Update Model Parameters\n",
        "      model.weight=model.weight-lr*grad_w\n",
        "      model.bias=model.bias-lr*grad_b\n",
        "\n",
        "    ###5. Log and print the loss\n",
        "    with torch.no_grad():\n",
        "      yhat=model.forward(x)\n",
        "      curr_loss=loss_fn(yhat,y)\n",
        "      print('Epoc: %3d ' % (i+1),end=\"\")\n",
        "      print('| MSE % .5f' % curr_loss)\n",
        "      cost.append(curr_loss)\n",
        "      \n",
        "  return cost"
      ],
      "metadata": {
        "id": "8ZhLILkrkPsS"
      },
      "execution_count": null,
      "outputs": []
    },
    {
      "cell_type": "code",
      "source": [
        "model=NN(X_train.size(1))\n",
        "cost=train(model,X_train,y_train,n_epoch=50)"
      ],
      "metadata": {
        "colab": {
          "base_uri": "https://localhost:8080/"
        },
        "id": "7ZJj4XUXkZP-",
        "outputId": "c37b6d71-353d-4e59-dabc-8b5c2d29957f"
      },
      "execution_count": null,
      "outputs": [
        {
          "output_type": "stream",
          "name": "stdout",
          "text": [
            "Epoc:   1 | MSE  0.47020\n",
            "Epoc:   2 | MSE  0.44076\n",
            "Epoc:   3 | MSE  0.41417\n",
            "Epoc:   4 | MSE  0.39011\n",
            "Epoc:   5 | MSE  0.36826\n",
            "Epoc:   6 | MSE  0.34839\n",
            "Epoc:   7 | MSE  0.33027\n",
            "Epoc:   8 | MSE  0.31373\n",
            "Epoc:   9 | MSE  0.29857\n",
            "Epoc:  10 | MSE  0.28467\n",
            "Epoc:  11 | MSE  0.27189\n",
            "Epoc:  12 | MSE  0.26013\n",
            "Epoc:  13 | MSE  0.24926\n",
            "Epoc:  14 | MSE  0.23922\n",
            "Epoc:  15 | MSE  0.22994\n",
            "Epoc:  16 | MSE  0.22132\n",
            "Epoc:  17 | MSE  0.21331\n",
            "Epoc:  18 | MSE  0.20588\n",
            "Epoc:  19 | MSE  0.19896\n",
            "Epoc:  20 | MSE  0.19250\n",
            "Epoc:  21 | MSE  0.18648\n",
            "Epoc:  22 | MSE  0.18087\n",
            "Epoc:  23 | MSE  0.17561\n",
            "Epoc:  24 | MSE  0.17070\n",
            "Epoc:  25 | MSE  0.16610\n",
            "Epoc:  26 | MSE  0.16179\n",
            "Epoc:  27 | MSE  0.15775\n",
            "Epoc:  28 | MSE  0.15396\n",
            "Epoc:  29 | MSE  0.15040\n",
            "Epoc:  30 | MSE  0.14706\n",
            "Epoc:  31 | MSE  0.14392\n",
            "Epoc:  32 | MSE  0.14097\n",
            "Epoc:  33 | MSE  0.13820\n",
            "Epoc:  34 | MSE  0.13559\n",
            "Epoc:  35 | MSE  0.13313\n",
            "Epoc:  36 | MSE  0.13082\n",
            "Epoc:  37 | MSE  0.12864\n",
            "Epoc:  38 | MSE  0.12659\n",
            "Epoc:  39 | MSE  0.12466\n",
            "Epoc:  40 | MSE  0.12284\n",
            "Epoc:  41 | MSE  0.12112\n",
            "Epoc:  42 | MSE  0.11951\n",
            "Epoc:  43 | MSE  0.11798\n",
            "Epoc:  44 | MSE  0.11655\n",
            "Epoc:  45 | MSE  0.11519\n",
            "Epoc:  46 | MSE  0.11391\n",
            "Epoc:  47 | MSE  0.11271\n",
            "Epoc:  48 | MSE  0.11157\n",
            "Epoc:  49 | MSE  0.11050\n",
            "Epoc:  50 | MSE  0.10948\n"
          ]
        }
      ]
    },
    {
      "cell_type": "code",
      "source": [
        "import matplotlib.pyplot as plt\n",
        "plt.plot(range(len(cost)),cost)\n",
        "plt.ylabel('Mean Sqare Error')\n",
        "plt.xlabel('Epoc')\n",
        "plt.show()"
      ],
      "metadata": {
        "colab": {
          "base_uri": "https://localhost:8080/",
          "height": 280
        },
        "id": "SsCi0-pWkZeD",
        "outputId": "49ccf78c-4674-4544-b0dd-48c57dc9a24a"
      },
      "execution_count": null,
      "outputs": [
        {
          "output_type": "display_data",
          "data": {
            "text/plain": [
              "<Figure size 432x288 with 1 Axes>"
            ],
            "image/png": "[encoded data removed]"
          },
          "metadata": {
            "needs_background": "light"
          }
        }
      ]
    },
    {
      "cell_type": "code",
      "source": [
        "ones=torch.ones(y_train.size())\n",
        "zero=torch.zeros(y_train.size())\n",
        "train_pred=model.forward(X_train)\n",
        "train_acc=torch.mean((  \n",
        "    torch.where(train_pred > 0.5,\n",
        "                ones,zero).int()==y_train).float())\n",
        "\n",
        "\n",
        "ones=torch.ones(y_test.size())\n",
        "zeros=torch.zeros(y_test.size())\n",
        "test_pred=model.forward(X_test)\n",
        "test_acc=torch.mean((torch.where(test_pred> 0.5,ones,zeros).int()==y_test).float())\n",
        "\n",
        "print('Training Accuracy: %.2f' % (train_acc*100))\n",
        "print('Testing Accuracy: %.2f' % (test_acc*100))"
      ],
      "metadata": {
        "colab": {
          "base_uri": "https://localhost:8080/"
        },
        "id": "_m06FoQIkimz",
        "outputId": "ca21ce82-e9b8-4604-8689-12763096766d"
      },
      "execution_count": null,
      "outputs": [
        {
          "output_type": "stream",
          "name": "stdout",
          "text": [
            "Training Accuracy: 87.86\n",
            "Testing Accuracy: 89.33\n"
          ]
        }
      ]
    },
    {
      "cell_type": "code",
      "source": [
        "import torch\n",
        "import sklearn\n",
        "import torch.nn.functional as F"
      ],
      "metadata": {
        "id": "44B3znx5knWV"
      },
      "execution_count": null,
      "outputs": []
    },
    {
      "cell_type": "code",
      "source": [
        "from sklearn.datasets import make_classification\n",
        "from sklearn.model_selection import train_test_split\n",
        "from sklearn.preprocessing import StandardScaler"
      ],
      "metadata": {
        "id": "lwY5WnxTlThu"
      },
      "execution_count": null,
      "outputs": []
    },
    {
      "cell_type": "code",
      "source": [
        "### Create The dataset\n",
        "X,y=make_classification(n_samples=1000,n_classes=2,n_features=5)\n",
        "\n",
        "### Normalize the Data\n",
        "scaler=StandardScaler()\n",
        "X=scaler.fit_transform(X)\n",
        "\n",
        "### Array to Tensor\n",
        "X=torch.tensor(X,dtype=torch.float32)\n",
        "y=torch.tensor(y,dtype=torch.float32)"
      ],
      "metadata": {
        "id": "fghahCSnlTvF"
      },
      "execution_count": null,
      "outputs": []
    },
    {
      "cell_type": "code",
      "source": [
        "X_train,X_test,y_train,y_test=train_test_split(X,y,test_size=.3,random_state=21)\n",
        "print(X_train.shape)\n",
        "print(X_test.shape)"
      ],
      "metadata": {
        "colab": {
          "base_uri": "https://localhost:8080/"
        },
        "id": "K6V9rnXXlT4d",
        "outputId": "37416538-292d-42b6-de4c-5d3338eec067"
      },
      "execution_count": null,
      "outputs": [
        {
          "output_type": "stream",
          "name": "stdout",
          "text": [
            "torch.Size([700, 5])\n",
            "torch.Size([300, 5])\n"
          ]
        }
      ]
    },
    {
      "cell_type": "code",
      "source": [
        "class NNpt(nn.Module):\n",
        "  def __init__(self,n_features):\n",
        "    super(NNpt,self).__init__()\n",
        "    self.linear=nn.Linear(n_features,1)\n",
        "\n",
        "    self.linear.weight.detach().zero_()\n",
        "    self.linear.bias.detach().zero_()\n",
        "\n",
        "\n",
        "  def forward(self,x):\n",
        "    out=self.linear(x)\n",
        "    return out.view(-1)"
      ],
      "metadata": {
        "id": "1UUNjRWWlfa5"
      },
      "execution_count": null,
      "outputs": []
    },
    {
      "cell_type": "code",
      "source": [
        "def train(model,x,y,n_epoch=15,lr=0.001,seed=24,bsz=60):\n",
        "\n",
        "  cost=[]\n",
        "  torch.manual_seed(seed)\n",
        "   ### Optimizer\n",
        "  optimizer=torch.optim.SGD(model.parameters(),lr=lr)\n",
        "  for i in range(n_epoch):\n",
        "    suffle_idx=torch.randperm(y.size(0))\n",
        "    batches=torch.split(suffle_idx,bsz)\n",
        "\n",
        "    for idx in batches:\n",
        "      ###1. Compute the Output\n",
        "      yhat=model.forward(x[idx])\n",
        "\n",
        "      ###2. Compute the Loss\n",
        "      loss=torch.nn.functional.mse_loss(yhat,y[idx])\n",
        "\n",
        "      ###3. Compute the Gradients\n",
        "      optimizer.zero_grad()\n",
        "      loss.backward()\n",
        "\n",
        "      ###4. Update the Model Parameters\n",
        "      optimizer.step()\n",
        "      #model.weight=model.weight-lr*grad_w\n",
        "      #model.bias=model.bias-lr*grad_b\n",
        "\n",
        "    ###5. Log and print the Loss\n",
        "    with torch.no_grad():\n",
        "      yhat=model.forward(x)\n",
        "      curr_loss=loss_fn(yhat,y)\n",
        "      print('Epoc: %3d ' % (i+1),end=\"\")\n",
        "      print('| MSE % .5f' % curr_loss)\n",
        "      cost.append(curr_loss)\n",
        "      \n",
        "  return cost\n"
      ],
      "metadata": {
        "id": "My0b4h7bljyS"
      },
      "execution_count": null,
      "outputs": []
    },
    {
      "cell_type": "code",
      "source": [
        "n_feature=X_train.size(1)\n",
        "model=NNpt(n_features=n_feature)"
      ],
      "metadata": {
        "id": "0iiCuhElltYr"
      },
      "execution_count": null,
      "outputs": []
    },
    {
      "cell_type": "code",
      "source": [
        "cost=train(model,X_train,y_train,n_epoch=50)"
      ],
      "metadata": {
        "colab": {
          "base_uri": "https://localhost:8080/"
        },
        "id": "9Q76yYhRltkl",
        "outputId": "1dc9de21-6744-4805-934c-16b1eae55872"
      },
      "execution_count": null,
      "outputs": [
        {
          "output_type": "stream",
          "name": "stdout",
          "text": [
            "Epoc:   1 | MSE  0.10266\n",
            "Epoc:   2 | MSE  0.10177\n",
            "Epoc:   3 | MSE  0.10093\n",
            "Epoc:   4 | MSE  0.10012\n",
            "Epoc:   5 | MSE  0.09935\n",
            "Epoc:   6 | MSE  0.09862\n",
            "Epoc:   7 | MSE  0.09792\n",
            "Epoc:   8 | MSE  0.09726\n",
            "Epoc:   9 | MSE  0.09664\n",
            "Epoc:  10 | MSE  0.09604\n",
            "Epoc:  11 | MSE  0.09547\n",
            "Epoc:  12 | MSE  0.09494\n",
            "Epoc:  13 | MSE  0.09443\n",
            "Epoc:  14 | MSE  0.09394\n",
            "Epoc:  15 | MSE  0.09348\n",
            "Epoc:  16 | MSE  0.09303\n",
            "Epoc:  17 | MSE  0.09262\n",
            "Epoc:  18 | MSE  0.09223\n",
            "Epoc:  19 | MSE  0.09186\n",
            "Epoc:  20 | MSE  0.09150\n",
            "Epoc:  21 | MSE  0.09117\n",
            "Epoc:  22 | MSE  0.09084\n",
            "Epoc:  23 | MSE  0.09054\n",
            "Epoc:  24 | MSE  0.09026\n",
            "Epoc:  25 | MSE  0.08999\n",
            "Epoc:  26 | MSE  0.08973\n",
            "Epoc:  27 | MSE  0.08947\n",
            "Epoc:  28 | MSE  0.08924\n",
            "Epoc:  29 | MSE  0.08901\n",
            "Epoc:  30 | MSE  0.08879\n",
            "Epoc:  31 | MSE  0.08859\n",
            "Epoc:  32 | MSE  0.08839\n",
            "Epoc:  33 | MSE  0.08821\n",
            "Epoc:  34 | MSE  0.08803\n",
            "Epoc:  35 | MSE  0.08787\n",
            "Epoc:  36 | MSE  0.08771\n",
            "Epoc:  37 | MSE  0.08755\n",
            "Epoc:  38 | MSE  0.08741\n",
            "Epoc:  39 | MSE  0.08727\n",
            "Epoc:  40 | MSE  0.08714\n",
            "Epoc:  41 | MSE  0.08702\n",
            "Epoc:  42 | MSE  0.08690\n",
            "Epoc:  43 | MSE  0.08679\n",
            "Epoc:  44 | MSE  0.08668\n",
            "Epoc:  45 | MSE  0.08658\n",
            "Epoc:  46 | MSE  0.08648\n",
            "Epoc:  47 | MSE  0.08639\n",
            "Epoc:  48 | MSE  0.08631\n",
            "Epoc:  49 | MSE  0.08622\n",
            "Epoc:  50 | MSE  0.08614\n"
          ]
        }
      ]
    },
    {
      "cell_type": "code",
      "source": [
        "plt.plot(range(len(cost)),cost)\n",
        "plt.xlabel('No of Epochs')\n",
        "plt.ylabel('Mean Squared Error')\n",
        "plt.plot()"
      ],
      "metadata": {
        "colab": {
          "base_uri": "https://localhost:8080/",
          "height": 296
        },
        "id": "UbqidPAZltl8",
        "outputId": "95127104-bfc8-4ef5-cd5b-d9b12e54eb32"
      },
      "execution_count": null,
      "outputs": [
        {
          "output_type": "execute_result",
          "data": {
            "text/plain": [
              "[]"
            ]
          },
          "metadata": {},
          "execution_count": 58
        },
        {
          "output_type": "display_data",
          "data": {
            "text/plain": [
              "<Figure size 432x288 with 1 Axes>"
            ],
            "image/png": "[encoded data removed]"
          },
          "metadata": {
            "needs_background": "light"
          }
        }
      ]
    },
    {
      "cell_type": "code",
      "source": [
        "ones=torch.ones(y_train.size(0))\n",
        "zero=torch.zeros(y_train.size(0))\n",
        "train_pred=model.forward(X_train)\n",
        "\n",
        "train_acc=torch.mean((torch.where( train_pred >0.5 , ones,zero).int()==y_train).float())\n",
        "#print(train_acc)\n",
        "\n",
        "ones=torch.ones(y_test.size(0))\n",
        "zero=torch.zeros(y_test.size(0))\n",
        "test_pred=model.forward(X_test)\n",
        "\n",
        "test_acc=torch.mean((torch.where( test_pred >0.5 , ones,zero).int()==y_test).float())\n",
        "print('Training Accuracy : %.2f' % train_acc)\n",
        "print('Testing Accuracy: %.2f' % test_acc)"
      ],
      "metadata": {
        "colab": {
          "base_uri": "https://localhost:8080/"
        },
        "id": "RlN4ptuultrk",
        "outputId": "405cdf76-aca3-44bf-d48c-0069cdf9ee25"
      },
      "execution_count": null,
      "outputs": [
        {
          "output_type": "stream",
          "name": "stdout",
          "text": [
            "Training Accuracy : 0.94\n",
            "Testing Accuracy: 0.95\n"
          ]
        }
      ]
    },
    {
      "cell_type": "code",
      "source": [
        "def train(model,x,y,n_epoch=15,lr=0.001,seed=24,bsz=50):\n",
        "\n",
        "  cost=[]\n",
        "  torch.manual_seed(seed)\n",
        "   ### Optimizer\n",
        "  optimizer=torch.optim.SGD(model.parameters(),lr=lr)\n",
        "  for i in range(n_epoch):\n",
        "    suffle_idx=torch.randperm(y.size(0))\n",
        "    batches=torch.split(suffle_idx,bsz)\n",
        "\n",
        "    for idx in batches:\n",
        "      ###1. Compute the Output\n",
        "      yhat=model.forward(x[idx])\n",
        "\n",
        "      ###2. Compute the Loss\n",
        "      loss=torch.nn.functional.binary_cross_entropy(torch.sigmoid(yhat),y[idx])\n",
        "\n",
        "      ###3. Compute the Gradients\n",
        "      optimizer.zero_grad()\n",
        "      loss.backward()\n",
        "\n",
        "      ###4. Update the Model Parameters\n",
        "      optimizer.step()\n",
        "      #model.weight=model.weight-lr*grad_w\n",
        "      #model.bias=model.bias-lr*grad_b\n",
        "\n",
        "    ###5. Log and print the Loss\n",
        "    with torch.no_grad():\n",
        "      yhat=model.forward(x)\n",
        "      curr_loss=loss_fn(yhat,y)\n",
        "      print('Epoc: %3d ' % (i+1),end=\"\")\n",
        "      print('| MSE % .5f' % curr_loss)\n",
        "      cost.append(curr_loss)\n",
        "      \n",
        "  return cost\n"
      ],
      "metadata": {
        "id": "19xdrfrkl9Rt"
      },
      "execution_count": null,
      "outputs": []
    },
    {
      "cell_type": "code",
      "source": [
        "n_feature=X_train.size(1)\n",
        "model=NNpt(n_features=n_feature)"
      ],
      "metadata": {
        "id": "-qZfvF3omD8b"
      },
      "execution_count": null,
      "outputs": []
    },
    {
      "cell_type": "code",
      "source": [
        "cost=train(model,X_train,y_train,n_epoch=50)"
      ],
      "metadata": {
        "colab": {
          "base_uri": "https://localhost:8080/"
        },
        "id": "zQebr848mD--",
        "outputId": "b5863df3-d929-4d69-e641-c193ac91e83d"
      },
      "execution_count": null,
      "outputs": [
        {
          "output_type": "stream",
          "name": "stdout",
          "text": [
            "Epoc:   1 | MSE  0.47635\n",
            "Epoc:   2 | MSE  0.46743\n",
            "Epoc:   3 | MSE  0.45894\n",
            "Epoc:   4 | MSE  0.45086\n",
            "Epoc:   5 | MSE  0.44320\n",
            "Epoc:   6 | MSE  0.43593\n",
            "Epoc:   7 | MSE  0.42905\n",
            "Epoc:   8 | MSE  0.42254\n",
            "Epoc:   9 | MSE  0.41641\n",
            "Epoc:  10 | MSE  0.41063\n",
            "Epoc:  11 | MSE  0.40521\n",
            "Epoc:  12 | MSE  0.40012\n",
            "Epoc:  13 | MSE  0.39537\n",
            "Epoc:  14 | MSE  0.39094\n",
            "Epoc:  15 | MSE  0.38683\n",
            "Epoc:  16 | MSE  0.38302\n",
            "Epoc:  17 | MSE  0.37951\n",
            "Epoc:  18 | MSE  0.37630\n",
            "Epoc:  19 | MSE  0.37337\n",
            "Epoc:  20 | MSE  0.37071\n",
            "Epoc:  21 | MSE  0.36833\n",
            "Epoc:  22 | MSE  0.36621\n",
            "Epoc:  23 | MSE  0.36434\n",
            "Epoc:  24 | MSE  0.36272\n",
            "Epoc:  25 | MSE  0.36135\n",
            "Epoc:  26 | MSE  0.36021\n",
            "Epoc:  27 | MSE  0.35930\n",
            "Epoc:  28 | MSE  0.35862\n",
            "Epoc:  29 | MSE  0.35815\n",
            "Epoc:  30 | MSE  0.35790\n",
            "Epoc:  31 | MSE  0.35785\n",
            "Epoc:  32 | MSE  0.35801\n",
            "Epoc:  33 | MSE  0.35836\n",
            "Epoc:  34 | MSE  0.35891\n",
            "Epoc:  35 | MSE  0.35964\n",
            "Epoc:  36 | MSE  0.36055\n",
            "Epoc:  37 | MSE  0.36164\n",
            "Epoc:  38 | MSE  0.36290\n",
            "Epoc:  39 | MSE  0.36433\n",
            "Epoc:  40 | MSE  0.36592\n",
            "Epoc:  41 | MSE  0.36767\n",
            "Epoc:  42 | MSE  0.36958\n",
            "Epoc:  43 | MSE  0.37163\n",
            "Epoc:  44 | MSE  0.37384\n",
            "Epoc:  45 | MSE  0.37618\n",
            "Epoc:  46 | MSE  0.37867\n",
            "Epoc:  47 | MSE  0.38129\n",
            "Epoc:  48 | MSE  0.38405\n",
            "Epoc:  49 | MSE  0.38693\n",
            "Epoc:  50 | MSE  0.38994\n"
          ]
        }
      ]
    },
    {
      "cell_type": "code",
      "source": [
        "plt.plot(range(len(cost)),cost)\n",
        "plt.xlabel('No of Epochs')\n",
        "plt.ylabel('Mean Squared Error')\n",
        "plt.plot()"
      ],
      "metadata": {
        "colab": {
          "base_uri": "https://localhost:8080/",
          "height": 297
        },
        "id": "HTbtryPqmECb",
        "outputId": "2d27aac1-0346-4a64-fdd5-5710de39eaa5"
      },
      "execution_count": null,
      "outputs": [
        {
          "output_type": "execute_result",
          "data": {
            "text/plain": [
              "[]"
            ]
          },
          "metadata": {},
          "execution_count": 114
        },
        {
          "output_type": "display_data",
          "data": {
            "text/plain": [
              "<Figure size 432x288 with 1 Axes>"
            ],
            "image/png": "[encoded data removed]"
          },
          "metadata": {
            "needs_background": "light"
          }
        }
      ]
    },
    {
      "cell_type": "code",
      "source": [
        "ones=torch.ones(y_train.size(0))\n",
        "zero=torch.zeros(y_train.size(0))\n",
        "train_pred=model.forward(X_train)\n",
        "\n",
        "train_acc=torch.mean((torch.where( train_pred >0.5 , ones,zero).int()==y_train).float())\n",
        "#print(train_acc)\n",
        "\n",
        "ones=torch.ones(y_test.size(0))\n",
        "zero=torch.zeros(y_test.size(0))\n",
        "test_pred=model.forward(X_test)\n",
        "\n",
        "test_acc=torch.mean((torch.where( test_pred >0.5 , ones,zero).int()==y_test).float())\n",
        "print('Training Accuracy : %.2f' % train_acc)\n",
        "print('Testing Accuracy: %.2f' % test_acc)"
      ],
      "metadata": {
        "colab": {
          "base_uri": "https://localhost:8080/"
        },
        "id": "d5T1p3S1l9XL",
        "outputId": "dbcfc8c3-9c9d-4d85-c96e-e5fc0f94040d"
      },
      "execution_count": null,
      "outputs": [
        {
          "output_type": "stream",
          "name": "stdout",
          "text": [
            "Training Accuracy : 0.71\n",
            "Testing Accuracy: 0.64\n"
          ]
        }
      ]
    }
  ]
}