{
  "nbformat": 4,
  "nbformat_minor": 0,
  "metadata": {
    "colab": {
      "provenance": [],
      "collapsed_sections": [],
      "authorship_tag": "ABX9TyNI+9yZSXOwT+YCPcAKrPg/",
      "include_colab_link": true
    },
    "kernelspec": {
      "name": "python3",
      "display_name": "Python 3"
    },
    "language_info": {
      "name": "python"
    },
    "widgets": {
      "application/vnd.jupyter.widget-state+json": {
        "917be17c75314ab6b6a2e21945df33a3": {
          "model_module": "@jupyter-widgets/controls",
          "model_name": "HBoxModel",
          "model_module_version": "1.5.0",
          "state": {
            "_dom_classes": [],
            "_model_module": "@jupyter-widgets/controls",
            "_model_module_version": "1.5.0",
            "_model_name": "HBoxModel",
            "_view_count": null,
            "_view_module": "@jupyter-widgets/controls",
            "_view_module_version": "1.5.0",
            "_view_name": "HBoxView",
            "box_style": "",
            "children": [
              "IPY_MODEL_b88d41fb87884188a2f60abbbaa6e3af",
              "IPY_MODEL_156c1bd367024bdbadf5d74005cdfb20",
              "IPY_MODEL_eb8ed6513e194516a80c8222546c0086"
            ],
            "layout": "IPY_MODEL_8f589dd47a8047ceb9f319deb9407655"
          }
        },
        "b88d41fb87884188a2f60abbbaa6e3af": {
          "model_module": "@jupyter-widgets/controls",
          "model_name": "HTMLModel",
          "model_module_version": "1.5.0",
          "state": {
            "_dom_classes": [],
            "_model_module": "@jupyter-widgets/controls",
            "_model_module_version": "1.5.0",
            "_model_name": "HTMLModel",
            "_view_count": null,
            "_view_module": "@jupyter-widgets/controls",
            "_view_module_version": "1.5.0",
            "_view_name": "HTMLView",
            "description": "",
            "description_tooltip": null,
            "layout": "IPY_MODEL_ff6a01ab7c754c89b794263fb1b67003",
            "placeholder": "​",
            "style": "IPY_MODEL_871fbc3d63fe4c2bb4e8b7e6877e6a53",
            "value": "100%"
          }
        },
        "156c1bd367024bdbadf5d74005cdfb20": {
          "model_module": "@jupyter-widgets/controls",
          "model_name": "FloatProgressModel",
          "model_module_version": "1.5.0",
          "state": {
            "_dom_classes": [],
            "_model_module": "@jupyter-widgets/controls",
            "_model_module_version": "1.5.0",
            "_model_name": "FloatProgressModel",
            "_view_count": null,
            "_view_module": "@jupyter-widgets/controls",
            "_view_module_version": "1.5.0",
            "_view_name": "ProgressView",
            "bar_style": "success",
            "description": "",
            "description_tooltip": null,
            "layout": "IPY_MODEL_7642410b1fa74fde8a23f1720e337c25",
            "max": 26421880,
            "min": 0,
            "orientation": "horizontal",
            "style": "IPY_MODEL_6e8b90f46cce4ecba5527e0d38820bff",
            "value": 26421880
          }
        },
        "eb8ed6513e194516a80c8222546c0086": {
          "model_module": "@jupyter-widgets/controls",
          "model_name": "HTMLModel",
          "model_module_version": "1.5.0",
          "state": {
            "_dom_classes": [],
            "_model_module": "@jupyter-widgets/controls",
            "_model_module_version": "1.5.0",
            "_model_name": "HTMLModel",
            "_view_count": null,
            "_view_module": "@jupyter-widgets/controls",
            "_view_module_version": "1.5.0",
            "_view_name": "HTMLView",
            "description": "",
            "description_tooltip": null,
            "layout": "IPY_MODEL_192776c5de674953aed539223a08c4df",
            "placeholder": "​",
            "style": "IPY_MODEL_eabffa01b3fd448797c7f7cb9ba9567f",
            "value": " 26421880/26421880 [00:03&lt;00:00, 11487180.78it/s]"
          }
        },
        "8f589dd47a8047ceb9f319deb9407655": {
          "model_module": "@jupyter-widgets/base",
          "model_name": "LayoutModel",
          "model_module_version": "1.2.0",
          "state": {
            "_model_module": "@jupyter-widgets/base",
            "_model_module_version": "1.2.0",
            "_model_name": "LayoutModel",
            "_view_count": null,
            "_view_module": "@jupyter-widgets/base",
            "_view_module_version": "1.2.0",
            "_view_name": "LayoutView",
            "align_content": null,
            "align_items": null,
            "align_self": null,
            "border": null,
            "bottom": null,
            "display": null,
            "flex": null,
            "flex_flow": null,
            "grid_area": null,
            "grid_auto_columns": null,
            "grid_auto_flow": null,
            "grid_auto_rows": null,
            "grid_column": null,
            "grid_gap": null,
            "grid_row": null,
            "grid_template_areas": null,
            "grid_template_columns": null,
            "grid_template_rows": null,
            "height": null,
            "justify_content": null,
            "justify_items": null,
            "left": null,
            "margin": null,
            "max_height": null,
            "max_width": null,
            "min_height": null,
            "min_width": null,
            "object_fit": null,
            "object_position": null,
            "order": null,
            "overflow": null,
            "overflow_x": null,
            "overflow_y": null,
            "padding": null,
            "right": null,
            "top": null,
            "visibility": null,
            "width": null
          }
        },
        "ff6a01ab7c754c89b794263fb1b67003": {
          "model_module": "@jupyter-widgets/base",
          "model_name": "LayoutModel",
          "model_module_version": "1.2.0",
          "state": {
            "_model_module": "@jupyter-widgets/base",
            "_model_module_version": "1.2.0",
            "_model_name": "LayoutModel",
            "_view_count": null,
            "_view_module": "@jupyter-widgets/base",
            "_view_module_version": "1.2.0",
            "_view_name": "LayoutView",
            "align_content": null,
            "align_items": null,
            "align_self": null,
            "border": null,
            "bottom": null,
            "display": null,
            "flex": null,
            "flex_flow": null,
            "grid_area": null,
            "grid_auto_columns": null,
            "grid_auto_flow": null,
            "grid_auto_rows": null,
            "grid_column": null,
            "grid_gap": null,
            "grid_row": null,
            "grid_template_areas": null,
            "grid_template_columns": null,
            "grid_template_rows": null,
            "height": null,
            "justify_content": null,
            "justify_items": null,
            "left": null,
            "margin": null,
            "max_height": null,
            "max_width": null,
            "min_height": null,
            "min_width": null,
            "object_fit": null,
            "object_position": null,
            "order": null,
            "overflow": null,
            "overflow_x": null,
            "overflow_y": null,
            "padding": null,
            "right": null,
            "top": null,
            "visibility": null,
            "width": null
          }
        },
        "871fbc3d63fe4c2bb4e8b7e6877e6a53": {
          "model_module": "@jupyter-widgets/controls",
          "model_name": "DescriptionStyleModel",
          "model_module_version": "1.5.0",
          "state": {
            "_model_module": "@jupyter-widgets/controls",
            "_model_module_version": "1.5.0",
            "_model_name": "DescriptionStyleModel",
            "_view_count": null,
            "_view_module": "@jupyter-widgets/base",
            "_view_module_version": "1.2.0",
            "_view_name": "StyleView",
            "description_width": ""
          }
        },
        "7642410b1fa74fde8a23f1720e337c25": {
          "model_module": "@jupyter-widgets/base",
          "model_name": "LayoutModel",
          "model_module_version": "1.2.0",
          "state": {
            "_model_module": "@jupyter-widgets/base",
            "_model_module_version": "1.2.0",
            "_model_name": "LayoutModel",
            "_view_count": null,
            "_view_module": "@jupyter-widgets/base",
            "_view_module_version": "1.2.0",
            "_view_name": "LayoutView",
            "align_content": null,
            "align_items": null,
            "align_self": null,
            "border": null,
            "bottom": null,
            "display": null,
            "flex": null,
            "flex_flow": null,
            "grid_area": null,
            "grid_auto_columns": null,
            "grid_auto_flow": null,
            "grid_auto_rows": null,
            "grid_column": null,
            "grid_gap": null,
            "grid_row": null,
            "grid_template_areas": null,
            "grid_template_columns": null,
            "grid_template_rows": null,
            "height": null,
            "justify_content": null,
            "justify_items": null,
            "left": null,
            "margin": null,
            "max_height": null,
            "max_width": null,
            "min_height": null,
            "min_width": null,
            "object_fit": null,
            "object_position": null,
            "order": null,
            "overflow": null,
            "overflow_x": null,
            "overflow_y": null,
            "padding": null,
            "right": null,
            "top": null,
            "visibility": null,
            "width": null
          }
        },
        "6e8b90f46cce4ecba5527e0d38820bff": {
          "model_module": "@jupyter-widgets/controls",
          "model_name": "ProgressStyleModel",
          "model_module_version": "1.5.0",
          "state": {
            "_model_module": "@jupyter-widgets/controls",
            "_model_module_version": "1.5.0",
            "_model_name": "ProgressStyleModel",
            "_view_count": null,
            "_view_module": "@jupyter-widgets/base",
            "_view_module_version": "1.2.0",
            "_view_name": "StyleView",
            "bar_color": null,
            "description_width": ""
          }
        },
        "192776c5de674953aed539223a08c4df": {
          "model_module": "@jupyter-widgets/base",
          "model_name": "LayoutModel",
          "model_module_version": "1.2.0",
          "state": {
            "_model_module": "@jupyter-widgets/base",
            "_model_module_version": "1.2.0",
            "_model_name": "LayoutModel",
            "_view_count": null,
            "_view_module": "@jupyter-widgets/base",
            "_view_module_version": "1.2.0",
            "_view_name": "LayoutView",
            "align_content": null,
            "align_items": null,
            "align_self": null,
            "border": null,
            "bottom": null,
            "display": null,
            "flex": null,
            "flex_flow": null,
            "grid_area": null,
            "grid_auto_columns": null,
            "grid_auto_flow": null,
            "grid_auto_rows": null,
            "grid_column": null,
            "grid_gap": null,
            "grid_row": null,
            "grid_template_areas": null,
            "grid_template_columns": null,
            "grid_template_rows": null,
            "height": null,
            "justify_content": null,
            "justify_items": null,
            "left": null,
            "margin": null,
            "max_height": null,
            "max_width": null,
            "min_height": null,
            "min_width": null,
            "object_fit": null,
            "object_position": null,
            "order": null,
            "overflow": null,
            "overflow_x": null,
            "overflow_y": null,
            "padding": null,
            "right": null,
            "top": null,
            "visibility": null,
            "width": null
          }
        },
        "eabffa01b3fd448797c7f7cb9ba9567f": {
          "model_module": "@jupyter-widgets/controls",
          "model_name": "DescriptionStyleModel",
          "model_module_version": "1.5.0",
          "state": {
            "_model_module": "@jupyter-widgets/controls",
            "_model_module_version": "1.5.0",
            "_model_name": "DescriptionStyleModel",
            "_view_count": null,
            "_view_module": "@jupyter-widgets/base",
            "_view_module_version": "1.2.0",
            "_view_name": "StyleView",
            "description_width": ""
          }
        },
        "3ade44dc12274435bc6b5f11eaedb0eb": {
          "model_module": "@jupyter-widgets/controls",
          "model_name": "HBoxModel",
          "model_module_version": "1.5.0",
          "state": {
            "_dom_classes": [],
            "_model_module": "@jupyter-widgets/controls",
            "_model_module_version": "1.5.0",
            "_model_name": "HBoxModel",
            "_view_count": null,
            "_view_module": "@jupyter-widgets/controls",
            "_view_module_version": "1.5.0",
            "_view_name": "HBoxView",
            "box_style": "",
            "children": [
              "IPY_MODEL_05f7fe99fc174a7488acfcf847379fbc",
              "IPY_MODEL_7b57b9fc3eb247488bb4049e12d24ca5",
              "IPY_MODEL_bf821e99b2104112a9689db70d5c2db2"
            ],
            "layout": "IPY_MODEL_7e3e09ab39664afea502536fe7da46d9"
          }
        },
        "05f7fe99fc174a7488acfcf847379fbc": {
          "model_module": "@jupyter-widgets/controls",
          "model_name": "HTMLModel",
          "model_module_version": "1.5.0",
          "state": {
            "_dom_classes": [],
            "_model_module": "@jupyter-widgets/controls",
            "_model_module_version": "1.5.0",
            "_model_name": "HTMLModel",
            "_view_count": null,
            "_view_module": "@jupyter-widgets/controls",
            "_view_module_version": "1.5.0",
            "_view_name": "HTMLView",
            "description": "",
            "description_tooltip": null,
            "layout": "IPY_MODEL_61298938cb064407a48c95051ebfd69e",
            "placeholder": "​",
            "style": "IPY_MODEL_7d6cf2a065204abeac4b0baeb5598119",
            "value": "100%"
          }
        },
        "7b57b9fc3eb247488bb4049e12d24ca5": {
          "model_module": "@jupyter-widgets/controls",
          "model_name": "FloatProgressModel",
          "model_module_version": "1.5.0",
          "state": {
            "_dom_classes": [],
            "_model_module": "@jupyter-widgets/controls",
            "_model_module_version": "1.5.0",
            "_model_name": "FloatProgressModel",
            "_view_count": null,
            "_view_module": "@jupyter-widgets/controls",
            "_view_module_version": "1.5.0",
            "_view_name": "ProgressView",
            "bar_style": "success",
            "description": "",
            "description_tooltip": null,
            "layout": "IPY_MODEL_56edb1f7294c48f6b00499beb764e70d",
            "max": 29515,
            "min": 0,
            "orientation": "horizontal",
            "style": "IPY_MODEL_df0c19f534d8455d8dfb02749c29df63",
            "value": 29515
          }
        },
        "bf821e99b2104112a9689db70d5c2db2": {
          "model_module": "@jupyter-widgets/controls",
          "model_name": "HTMLModel",
          "model_module_version": "1.5.0",
          "state": {
            "_dom_classes": [],
            "_model_module": "@jupyter-widgets/controls",
            "_model_module_version": "1.5.0",
            "_model_name": "HTMLModel",
            "_view_count": null,
            "_view_module": "@jupyter-widgets/controls",
            "_view_module_version": "1.5.0",
            "_view_name": "HTMLView",
            "description": "",
            "description_tooltip": null,
            "layout": "IPY_MODEL_f89743238d934c8386ec5d1076776ad4",
            "placeholder": "​",
            "style": "IPY_MODEL_e59b15799a4f4f1cba82a4f1660a44eb",
            "value": " 29515/29515 [00:00&lt;00:00, 118822.29it/s]"
          }
        },
        "7e3e09ab39664afea502536fe7da46d9": {
          "model_module": "@jupyter-widgets/base",
          "model_name": "LayoutModel",
          "model_module_version": "1.2.0",
          "state": {
            "_model_module": "@jupyter-widgets/base",
            "_model_module_version": "1.2.0",
            "_model_name": "LayoutModel",
            "_view_count": null,
            "_view_module": "@jupyter-widgets/base",
            "_view_module_version": "1.2.0",
            "_view_name": "LayoutView",
            "align_content": null,
            "align_items": null,
            "align_self": null,
            "border": null,
            "bottom": null,
            "display": null,
            "flex": null,
            "flex_flow": null,
            "grid_area": null,
            "grid_auto_columns": null,
            "grid_auto_flow": null,
            "grid_auto_rows": null,
            "grid_column": null,
            "grid_gap": null,
            "grid_row": null,
            "grid_template_areas": null,
            "grid_template_columns": null,
            "grid_template_rows": null,
            "height": null,
            "justify_content": null,
            "justify_items": null,
            "left": null,
            "margin": null,
            "max_height": null,
            "max_width": null,
            "min_height": null,
            "min_width": null,
            "object_fit": null,
            "object_position": null,
            "order": null,
            "overflow": null,
            "overflow_x": null,
            "overflow_y": null,
            "padding": null,
            "right": null,
            "top": null,
            "visibility": null,
            "width": null
          }
        },
        "61298938cb064407a48c95051ebfd69e": {
          "model_module": "@jupyter-widgets/base",
          "model_name": "LayoutModel",
          "model_module_version": "1.2.0",
          "state": {
            "_model_module": "@jupyter-widgets/base",
            "_model_module_version": "1.2.0",
            "_model_name": "LayoutModel",
            "_view_count": null,
            "_view_module": "@jupyter-widgets/base",
            "_view_module_version": "1.2.0",
            "_view_name": "LayoutView",
            "align_content": null,
            "align_items": null,
            "align_self": null,
            "border": null,
            "bottom": null,
            "display": null,
            "flex": null,
            "flex_flow": null,
            "grid_area": null,
            "grid_auto_columns": null,
            "grid_auto_flow": null,
            "grid_auto_rows": null,
            "grid_column": null,
            "grid_gap": null,
            "grid_row": null,
            "grid_template_areas": null,
            "grid_template_columns": null,
            "grid_template_rows": null,
            "height": null,
            "justify_content": null,
            "justify_items": null,
            "left": null,
            "margin": null,
            "max_height": null,
            "max_width": null,
            "min_height": null,
            "min_width": null,
            "object_fit": null,
            "object_position": null,
            "order": null,
            "overflow": null,
            "overflow_x": null,
            "overflow_y": null,
            "padding": null,
            "right": null,
            "top": null,
            "visibility": null,
            "width": null
          }
        },
        "7d6cf2a065204abeac4b0baeb5598119": {
          "model_module": "@jupyter-widgets/controls",
          "model_name": "DescriptionStyleModel",
          "model_module_version": "1.5.0",
          "state": {
            "_model_module": "@jupyter-widgets/controls",
            "_model_module_version": "1.5.0",
            "_model_name": "DescriptionStyleModel",
            "_view_count": null,
            "_view_module": "@jupyter-widgets/base",
            "_view_module_version": "1.2.0",
            "_view_name": "StyleView",
            "description_width": ""
          }
        },
        "56edb1f7294c48f6b00499beb764e70d": {
          "model_module": "@jupyter-widgets/base",
          "model_name": "LayoutModel",
          "model_module_version": "1.2.0",
          "state": {
            "_model_module": "@jupyter-widgets/base",
            "_model_module_version": "1.2.0",
            "_model_name": "LayoutModel",
            "_view_count": null,
            "_view_module": "@jupyter-widgets/base",
            "_view_module_version": "1.2.0",
            "_view_name": "LayoutView",
            "align_content": null,
            "align_items": null,
            "align_self": null,
            "border": null,
            "bottom": null,
            "display": null,
            "flex": null,
            "flex_flow": null,
            "grid_area": null,
            "grid_auto_columns": null,
            "grid_auto_flow": null,
            "grid_auto_rows": null,
            "grid_column": null,
            "grid_gap": null,
            "grid_row": null,
            "grid_template_areas": null,
            "grid_template_columns": null,
            "grid_template_rows": null,
            "height": null,
            "justify_content": null,
            "justify_items": null,
            "left": null,
            "margin": null,
            "max_height": null,
            "max_width": null,
            "min_height": null,
            "min_width": null,
            "object_fit": null,
            "object_position": null,
            "order": null,
            "overflow": null,
            "overflow_x": null,
            "overflow_y": null,
            "padding": null,
            "right": null,
            "top": null,
            "visibility": null,
            "width": null
          }
        },
        "df0c19f534d8455d8dfb02749c29df63": {
          "model_module": "@jupyter-widgets/controls",
          "model_name": "ProgressStyleModel",
          "model_module_version": "1.5.0",
          "state": {
            "_model_module": "@jupyter-widgets/controls",
            "_model_module_version": "1.5.0",
            "_model_name": "ProgressStyleModel",
            "_view_count": null,
            "_view_module": "@jupyter-widgets/base",
            "_view_module_version": "1.2.0",
            "_view_name": "StyleView",
            "bar_color": null,
            "description_width": ""
          }
        },
        "f89743238d934c8386ec5d1076776ad4": {
          "model_module": "@jupyter-widgets/base",
          "model_name": "LayoutModel",
          "model_module_version": "1.2.0",
          "state": {
            "_model_module": "@jupyter-widgets/base",
            "_model_module_version": "1.2.0",
            "_model_name": "LayoutModel",
            "_view_count": null,
            "_view_module": "@jupyter-widgets/base",
            "_view_module_version": "1.2.0",
            "_view_name": "LayoutView",
            "align_content": null,
            "align_items": null,
            "align_self": null,
            "border": null,
            "bottom": null,
            "display": null,
            "flex": null,
            "flex_flow": null,
            "grid_area": null,
            "grid_auto_columns": null,
            "grid_auto_flow": null,
            "grid_auto_rows": null,
            "grid_column": null,
            "grid_gap": null,
            "grid_row": null,
            "grid_template_areas": null,
            "grid_template_columns": null,
            "grid_template_rows": null,
            "height": null,
            "justify_content": null,
            "justify_items": null,
            "left": null,
            "margin": null,
            "max_height": null,
            "max_width": null,
            "min_height": null,
            "min_width": null,
            "object_fit": null,
            "object_position": null,
            "order": null,
            "overflow": null,
            "overflow_x": null,
            "overflow_y": null,
            "padding": null,
            "right": null,
            "top": null,
            "visibility": null,
            "width": null
          }
        },
        "e59b15799a4f4f1cba82a4f1660a44eb": {
          "model_module": "@jupyter-widgets/controls",
          "model_name": "DescriptionStyleModel",
          "model_module_version": "1.5.0",
          "state": {
            "_model_module": "@jupyter-widgets/controls",
            "_model_module_version": "1.5.0",
            "_model_name": "DescriptionStyleModel",
            "_view_count": null,
            "_view_module": "@jupyter-widgets/base",
            "_view_module_version": "1.2.0",
            "_view_name": "StyleView",
            "description_width": ""
          }
        },
        "0c7700d3a6304ea0b0409a13fc7591a9": {
          "model_module": "@jupyter-widgets/controls",
          "model_name": "HBoxModel",
          "model_module_version": "1.5.0",
          "state": {
            "_dom_classes": [],
            "_model_module": "@jupyter-widgets/controls",
            "_model_module_version": "1.5.0",
            "_model_name": "HBoxModel",
            "_view_count": null,
            "_view_module": "@jupyter-widgets/controls",
            "_view_module_version": "1.5.0",
            "_view_name": "HBoxView",
            "box_style": "",
            "children": [
              "IPY_MODEL_43a025523160429ca036d7ce8cb2de4d",
              "IPY_MODEL_7220ae242ce24afc9e445e57b986049a",
              "IPY_MODEL_92e768f623d447eaaa27028dc801724b"
            ],
            "layout": "IPY_MODEL_b0465cbc736c487c909ec81dce998e49"
          }
        },
        "43a025523160429ca036d7ce8cb2de4d": {
          "model_module": "@jupyter-widgets/controls",
          "model_name": "HTMLModel",
          "model_module_version": "1.5.0",
          "state": {
            "_dom_classes": [],
            "_model_module": "@jupyter-widgets/controls",
            "_model_module_version": "1.5.0",
            "_model_name": "HTMLModel",
            "_view_count": null,
            "_view_module": "@jupyter-widgets/controls",
            "_view_module_version": "1.5.0",
            "_view_name": "HTMLView",
            "description": "",
            "description_tooltip": null,
            "layout": "IPY_MODEL_78e328685ebe47389b034a097a75295b",
            "placeholder": "​",
            "style": "IPY_MODEL_757b8ee2025c4f3f8af136877904e0c5",
            "value": "100%"
          }
        },
        "7220ae242ce24afc9e445e57b986049a": {
          "model_module": "@jupyter-widgets/controls",
          "model_name": "FloatProgressModel",
          "model_module_version": "1.5.0",
          "state": {
            "_dom_classes": [],
            "_model_module": "@jupyter-widgets/controls",
            "_model_module_version": "1.5.0",
            "_model_name": "FloatProgressModel",
            "_view_count": null,
            "_view_module": "@jupyter-widgets/controls",
            "_view_module_version": "1.5.0",
            "_view_name": "ProgressView",
            "bar_style": "success",
            "description": "",
            "description_tooltip": null,
            "layout": "IPY_MODEL_a2f1ee8671a64524bf54f04df1d07b64",
            "max": 4422102,
            "min": 0,
            "orientation": "horizontal",
            "style": "IPY_MODEL_8064169761f247bab614b50057996c0e",
            "value": 4422102
          }
        },
        "92e768f623d447eaaa27028dc801724b": {
          "model_module": "@jupyter-widgets/controls",
          "model_name": "HTMLModel",
          "model_module_version": "1.5.0",
          "state": {
            "_dom_classes": [],
            "_model_module": "@jupyter-widgets/controls",
            "_model_module_version": "1.5.0",
            "_model_name": "HTMLModel",
            "_view_count": null,
            "_view_module": "@jupyter-widgets/controls",
            "_view_module_version": "1.5.0",
            "_view_name": "HTMLView",
            "description": "",
            "description_tooltip": null,
            "layout": "IPY_MODEL_06ce60a6c47044c994ec899d2df9d420",
            "placeholder": "​",
            "style": "IPY_MODEL_3da22c01fc48423ead2a3300e306b10d",
            "value": " 4422102/4422102 [00:01&lt;00:00, 3379811.27it/s]"
          }
        },
        "b0465cbc736c487c909ec81dce998e49": {
          "model_module": "@jupyter-widgets/base",
          "model_name": "LayoutModel",
          "model_module_version": "1.2.0",
          "state": {
            "_model_module": "@jupyter-widgets/base",
            "_model_module_version": "1.2.0",
            "_model_name": "LayoutModel",
            "_view_count": null,
            "_view_module": "@jupyter-widgets/base",
            "_view_module_version": "1.2.0",
            "_view_name": "LayoutView",
            "align_content": null,
            "align_items": null,
            "align_self": null,
            "border": null,
            "bottom": null,
            "display": null,
            "flex": null,
            "flex_flow": null,
            "grid_area": null,
            "grid_auto_columns": null,
            "grid_auto_flow": null,
            "grid_auto_rows": null,
            "grid_column": null,
            "grid_gap": null,
            "grid_row": null,
            "grid_template_areas": null,
            "grid_template_columns": null,
            "grid_template_rows": null,
            "height": null,
            "justify_content": null,
            "justify_items": null,
            "left": null,
            "margin": null,
            "max_height": null,
            "max_width": null,
            "min_height": null,
            "min_width": null,
            "object_fit": null,
            "object_position": null,
            "order": null,
            "overflow": null,
            "overflow_x": null,
            "overflow_y": null,
            "padding": null,
            "right": null,
            "top": null,
            "visibility": null,
            "width": null
          }
        },
        "78e328685ebe47389b034a097a75295b": {
          "model_module": "@jupyter-widgets/base",
          "model_name": "LayoutModel",
          "model_module_version": "1.2.0",
          "state": {
            "_model_module": "@jupyter-widgets/base",
            "_model_module_version": "1.2.0",
            "_model_name": "LayoutModel",
            "_view_count": null,
            "_view_module": "@jupyter-widgets/base",
            "_view_module_version": "1.2.0",
            "_view_name": "LayoutView",
            "align_content": null,
            "align_items": null,
            "align_self": null,
            "border": null,
            "bottom": null,
            "display": null,
            "flex": null,
            "flex_flow": null,
            "grid_area": null,
            "grid_auto_columns": null,
            "grid_auto_flow": null,
            "grid_auto_rows": null,
            "grid_column": null,
            "grid_gap": null,
            "grid_row": null,
            "grid_template_areas": null,
            "grid_template_columns": null,
            "grid_template_rows": null,
            "height": null,
            "justify_content": null,
            "justify_items": null,
            "left": null,
            "margin": null,
            "max_height": null,
            "max_width": null,
            "min_height": null,
            "min_width": null,
            "object_fit": null,
            "object_position": null,
            "order": null,
            "overflow": null,
            "overflow_x": null,
            "overflow_y": null,
            "padding": null,
            "right": null,
            "top": null,
            "visibility": null,
            "width": null
          }
        },
        "757b8ee2025c4f3f8af136877904e0c5": {
          "model_module": "@jupyter-widgets/controls",
          "model_name": "DescriptionStyleModel",
          "model_module_version": "1.5.0",
          "state": {
            "_model_module": "@jupyter-widgets/controls",
            "_model_module_version": "1.5.0",
            "_model_name": "DescriptionStyleModel",
            "_view_count": null,
            "_view_module": "@jupyter-widgets/base",
            "_view_module_version": "1.2.0",
            "_view_name": "StyleView",
            "description_width": ""
          }
        },
        "a2f1ee8671a64524bf54f04df1d07b64": {
          "model_module": "@jupyter-widgets/base",
          "model_name": "LayoutModel",
          "model_module_version": "1.2.0",
          "state": {
            "_model_module": "@jupyter-widgets/base",
            "_model_module_version": "1.2.0",
            "_model_name": "LayoutModel",
            "_view_count": null,
            "_view_module": "@jupyter-widgets/base",
            "_view_module_version": "1.2.0",
            "_view_name": "LayoutView",
            "align_content": null,
            "align_items": null,
            "align_self": null,
            "border": null,
            "bottom": null,
            "display": null,
            "flex": null,
            "flex_flow": null,
            "grid_area": null,
            "grid_auto_columns": null,
            "grid_auto_flow": null,
            "grid_auto_rows": null,
            "grid_column": null,
            "grid_gap": null,
            "grid_row": null,
            "grid_template_areas": null,
            "grid_template_columns": null,
            "grid_template_rows": null,
            "height": null,
            "justify_content": null,
            "justify_items": null,
            "left": null,
            "margin": null,
            "max_height": null,
            "max_width": null,
            "min_height": null,
            "min_width": null,
            "object_fit": null,
            "object_position": null,
            "order": null,
            "overflow": null,
            "overflow_x": null,
            "overflow_y": null,
            "padding": null,
            "right": null,
            "top": null,
            "visibility": null,
            "width": null
          }
        },
        "8064169761f247bab614b50057996c0e": {
          "model_module": "@jupyter-widgets/controls",
          "model_name": "ProgressStyleModel",
          "model_module_version": "1.5.0",
          "state": {
            "_model_module": "@jupyter-widgets/controls",
            "_model_module_version": "1.5.0",
            "_model_name": "ProgressStyleModel",
            "_view_count": null,
            "_view_module": "@jupyter-widgets/base",
            "_view_module_version": "1.2.0",
            "_view_name": "StyleView",
            "bar_color": null,
            "description_width": ""
          }
        },
        "06ce60a6c47044c994ec899d2df9d420": {
          "model_module": "@jupyter-widgets/base",
          "model_name": "LayoutModel",
          "model_module_version": "1.2.0",
          "state": {
            "_model_module": "@jupyter-widgets/base",
            "_model_module_version": "1.2.0",
            "_model_name": "LayoutModel",
            "_view_count": null,
            "_view_module": "@jupyter-widgets/base",
            "_view_module_version": "1.2.0",
            "_view_name": "LayoutView",
            "align_content": null,
            "align_items": null,
            "align_self": null,
            "border": null,
            "bottom": null,
            "display": null,
            "flex": null,
            "flex_flow": null,
            "grid_area": null,
            "grid_auto_columns": null,
            "grid_auto_flow": null,
            "grid_auto_rows": null,
            "grid_column": null,
            "grid_gap": null,
            "grid_row": null,
            "grid_template_areas": null,
            "grid_template_columns": null,
            "grid_template_rows": null,
            "height": null,
            "justify_content": null,
            "justify_items": null,
            "left": null,
            "margin": null,
            "max_height": null,
            "max_width": null,
            "min_height": null,
            "min_width": null,
            "object_fit": null,
            "object_position": null,
            "order": null,
            "overflow": null,
            "overflow_x": null,
            "overflow_y": null,
            "padding": null,
            "right": null,
            "top": null,
            "visibility": null,
            "width": null
          }
        },
        "3da22c01fc48423ead2a3300e306b10d": {
          "model_module": "@jupyter-widgets/controls",
          "model_name": "DescriptionStyleModel",
          "model_module_version": "1.5.0",
          "state": {
            "_model_module": "@jupyter-widgets/controls",
            "_model_module_version": "1.5.0",
            "_model_name": "DescriptionStyleModel",
            "_view_count": null,
            "_view_module": "@jupyter-widgets/base",
            "_view_module_version": "1.2.0",
            "_view_name": "StyleView",
            "description_width": ""
          }
        },
        "e798cd96e8ab4b0ea4ba2b4674f24d09": {
          "model_module": "@jupyter-widgets/controls",
          "model_name": "HBoxModel",
          "model_module_version": "1.5.0",
          "state": {
            "_dom_classes": [],
            "_model_module": "@jupyter-widgets/controls",
            "_model_module_version": "1.5.0",
            "_model_name": "HBoxModel",
            "_view_count": null,
            "_view_module": "@jupyter-widgets/controls",
            "_view_module_version": "1.5.0",
            "_view_name": "HBoxView",
            "box_style": "",
            "children": [
              "IPY_MODEL_d88d6f2efa4d4d8bad265d977f353f58",
              "IPY_MODEL_de646b3ed8e24ed895cfd6861e892c85",
              "IPY_MODEL_f9275e01441249a3ac46688601b8a5bd"
            ],
            "layout": "IPY_MODEL_02e2a144aba14629a8a61476b4ce4c0d"
          }
        },
        "d88d6f2efa4d4d8bad265d977f353f58": {
          "model_module": "@jupyter-widgets/controls",
          "model_name": "HTMLModel",
          "model_module_version": "1.5.0",
          "state": {
            "_dom_classes": [],
            "_model_module": "@jupyter-widgets/controls",
            "_model_module_version": "1.5.0",
            "_model_name": "HTMLModel",
            "_view_count": null,
            "_view_module": "@jupyter-widgets/controls",
            "_view_module_version": "1.5.0",
            "_view_name": "HTMLView",
            "description": "",
            "description_tooltip": null,
            "layout": "IPY_MODEL_97f736e3bc80409b9f4b1621d7ae2fe8",
            "placeholder": "​",
            "style": "IPY_MODEL_bffff4b3dccf4839a7b20bfd9596f050",
            "value": "100%"
          }
        },
        "de646b3ed8e24ed895cfd6861e892c85": {
          "model_module": "@jupyter-widgets/controls",
          "model_name": "FloatProgressModel",
          "model_module_version": "1.5.0",
          "state": {
            "_dom_classes": [],
            "_model_module": "@jupyter-widgets/controls",
            "_model_module_version": "1.5.0",
            "_model_name": "FloatProgressModel",
            "_view_count": null,
            "_view_module": "@jupyter-widgets/controls",
            "_view_module_version": "1.5.0",
            "_view_name": "ProgressView",
            "bar_style": "success",
            "description": "",
            "description_tooltip": null,
            "layout": "IPY_MODEL_dcc5fba5d9314d0f9e6fe48c6b406b7c",
            "max": 5148,
            "min": 0,
            "orientation": "horizontal",
            "style": "IPY_MODEL_35c86d714b5a4ac391c3df4f3b00c886",
            "value": 5148
          }
        },
        "f9275e01441249a3ac46688601b8a5bd": {
          "model_module": "@jupyter-widgets/controls",
          "model_name": "HTMLModel",
          "model_module_version": "1.5.0",
          "state": {
            "_dom_classes": [],
            "_model_module": "@jupyter-widgets/controls",
            "_model_module_version": "1.5.0",
            "_model_name": "HTMLModel",
            "_view_count": null,
            "_view_module": "@jupyter-widgets/controls",
            "_view_module_version": "1.5.0",
            "_view_name": "HTMLView",
            "description": "",
            "description_tooltip": null,
            "layout": "IPY_MODEL_e9e7a8874c3142bb8e81f527f353bbf1",
            "placeholder": "​",
            "style": "IPY_MODEL_5645f52a07d44aedbfce3a78b2358133",
            "value": " 5148/5148 [00:00&lt;00:00, 96711.86it/s]"
          }
        },
        "02e2a144aba14629a8a61476b4ce4c0d": {
          "model_module": "@jupyter-widgets/base",
          "model_name": "LayoutModel",
          "model_module_version": "1.2.0",
          "state": {
            "_model_module": "@jupyter-widgets/base",
            "_model_module_version": "1.2.0",
            "_model_name": "LayoutModel",
            "_view_count": null,
            "_view_module": "@jupyter-widgets/base",
            "_view_module_version": "1.2.0",
            "_view_name": "LayoutView",
            "align_content": null,
            "align_items": null,
            "align_self": null,
            "border": null,
            "bottom": null,
            "display": null,
            "flex": null,
            "flex_flow": null,
            "grid_area": null,
            "grid_auto_columns": null,
            "grid_auto_flow": null,
            "grid_auto_rows": null,
            "grid_column": null,
            "grid_gap": null,
            "grid_row": null,
            "grid_template_areas": null,
            "grid_template_columns": null,
            "grid_template_rows": null,
            "height": null,
            "justify_content": null,
            "justify_items": null,
            "left": null,
            "margin": null,
            "max_height": null,
            "max_width": null,
            "min_height": null,
            "min_width": null,
            "object_fit": null,
            "object_position": null,
            "order": null,
            "overflow": null,
            "overflow_x": null,
            "overflow_y": null,
            "padding": null,
            "right": null,
            "top": null,
            "visibility": null,
            "width": null
          }
        },
        "97f736e3bc80409b9f4b1621d7ae2fe8": {
          "model_module": "@jupyter-widgets/base",
          "model_name": "LayoutModel",
          "model_module_version": "1.2.0",
          "state": {
            "_model_module": "@jupyter-widgets/base",
            "_model_module_version": "1.2.0",
            "_model_name": "LayoutModel",
            "_view_count": null,
            "_view_module": "@jupyter-widgets/base",
            "_view_module_version": "1.2.0",
            "_view_name": "LayoutView",
            "align_content": null,
            "align_items": null,
            "align_self": null,
            "border": null,
            "bottom": null,
            "display": null,
            "flex": null,
            "flex_flow": null,
            "grid_area": null,
            "grid_auto_columns": null,
            "grid_auto_flow": null,
            "grid_auto_rows": null,
            "grid_column": null,
            "grid_gap": null,
            "grid_row": null,
            "grid_template_areas": null,
            "grid_template_columns": null,
            "grid_template_rows": null,
            "height": null,
            "justify_content": null,
            "justify_items": null,
            "left": null,
            "margin": null,
            "max_height": null,
            "max_width": null,
            "min_height": null,
            "min_width": null,
            "object_fit": null,
            "object_position": null,
            "order": null,
            "overflow": null,
            "overflow_x": null,
            "overflow_y": null,
            "padding": null,
            "right": null,
            "top": null,
            "visibility": null,
            "width": null
          }
        },
        "bffff4b3dccf4839a7b20bfd9596f050": {
          "model_module": "@jupyter-widgets/controls",
          "model_name": "DescriptionStyleModel",
          "model_module_version": "1.5.0",
          "state": {
            "_model_module": "@jupyter-widgets/controls",
            "_model_module_version": "1.5.0",
            "_model_name": "DescriptionStyleModel",
            "_view_count": null,
            "_view_module": "@jupyter-widgets/base",
            "_view_module_version": "1.2.0",
            "_view_name": "StyleView",
            "description_width": ""
          }
        },
        "dcc5fba5d9314d0f9e6fe48c6b406b7c": {
          "model_module": "@jupyter-widgets/base",
          "model_name": "LayoutModel",
          "model_module_version": "1.2.0",
          "state": {
            "_model_module": "@jupyter-widgets/base",
            "_model_module_version": "1.2.0",
            "_model_name": "LayoutModel",
            "_view_count": null,
            "_view_module": "@jupyter-widgets/base",
            "_view_module_version": "1.2.0",
            "_view_name": "LayoutView",
            "align_content": null,
            "align_items": null,
            "align_self": null,
            "border": null,
            "bottom": null,
            "display": null,
            "flex": null,
            "flex_flow": null,
            "grid_area": null,
            "grid_auto_columns": null,
            "grid_auto_flow": null,
            "grid_auto_rows": null,
            "grid_column": null,
            "grid_gap": null,
            "grid_row": null,
            "grid_template_areas": null,
            "grid_template_columns": null,
            "grid_template_rows": null,
            "height": null,
            "justify_content": null,
            "justify_items": null,
            "left": null,
            "margin": null,
            "max_height": null,
            "max_width": null,
            "min_height": null,
            "min_width": null,
            "object_fit": null,
            "object_position": null,
            "order": null,
            "overflow": null,
            "overflow_x": null,
            "overflow_y": null,
            "padding": null,
            "right": null,
            "top": null,
            "visibility": null,
            "width": null
          }
        },
        "35c86d714b5a4ac391c3df4f3b00c886": {
          "model_module": "@jupyter-widgets/controls",
          "model_name": "ProgressStyleModel",
          "model_module_version": "1.5.0",
          "state": {
            "_model_module": "@jupyter-widgets/controls",
            "_model_module_version": "1.5.0",
            "_model_name": "ProgressStyleModel",
            "_view_count": null,
            "_view_module": "@jupyter-widgets/base",
            "_view_module_version": "1.2.0",
            "_view_name": "StyleView",
            "bar_color": null,
            "description_width": ""
          }
        },
        "e9e7a8874c3142bb8e81f527f353bbf1": {
          "model_module": "@jupyter-widgets/base",
          "model_name": "LayoutModel",
          "model_module_version": "1.2.0",
          "state": {
            "_model_module": "@jupyter-widgets/base",
            "_model_module_version": "1.2.0",
            "_model_name": "LayoutModel",
            "_view_count": null,
            "_view_module": "@jupyter-widgets/base",
            "_view_module_version": "1.2.0",
            "_view_name": "LayoutView",
            "align_content": null,
            "align_items": null,
            "align_self": null,
            "border": null,
            "bottom": null,
            "display": null,
            "flex": null,
            "flex_flow": null,
            "grid_area": null,
            "grid_auto_columns": null,
            "grid_auto_flow": null,
            "grid_auto_rows": null,
            "grid_column": null,
            "grid_gap": null,
            "grid_row": null,
            "grid_template_areas": null,
            "grid_template_columns": null,
            "grid_template_rows": null,
            "height": null,
            "justify_content": null,
            "justify_items": null,
            "left": null,
            "margin": null,
            "max_height": null,
            "max_width": null,
            "min_height": null,
            "min_width": null,
            "object_fit": null,
            "object_position": null,
            "order": null,
            "overflow": null,
            "overflow_x": null,
            "overflow_y": null,
            "padding": null,
            "right": null,
            "top": null,
            "visibility": null,
            "width": null
          }
        },
        "5645f52a07d44aedbfce3a78b2358133": {
          "model_module": "@jupyter-widgets/controls",
          "model_name": "DescriptionStyleModel",
          "model_module_version": "1.5.0",
          "state": {
            "_model_module": "@jupyter-widgets/controls",
            "_model_module_version": "1.5.0",
            "_model_name": "DescriptionStyleModel",
            "_view_count": null,
            "_view_module": "@jupyter-widgets/base",
            "_view_module_version": "1.2.0",
            "_view_name": "StyleView",
            "description_width": ""
          }
        }
      }
    }
  },
  "cells": [
    {
      "cell_type": "markdown",
      "metadata": {
        "id": "view-in-github",
        "colab_type": "text"
      },
      "source": [
        "<a href=\"https://colab.research.google.com/github/impeccable16/MOJA-handwriting-recognition/blob/main/NeuralLab_multimonial_linear_reg.ipynb\" target=\"_parent\"><img src=\"https://colab.research.google.com/assets/colab-badge.svg\" alt=\"Open In Colab\"/></a>"
      ]
    },
    {
      "cell_type": "code",
      "source": [
        "import sklearn\n",
        "import pandas as pd\n",
        "import torch\n",
        "import torch.nn as nn\n",
        "import torch.nn.functional as F\n",
        "from sklearn.datasets import load_iris #function from sklearn. the link provide documentation. iris in our code will be a directory-like object.\n",
        "from sklearn.model_selection import train_test_split\n",
        "from sklearn.preprocessing import StandardScaler\n"
      ],
      "metadata": {
        "id": "0nyv-55GqKAs"
      },
      "execution_count": 53,
      "outputs": []
    },
    {
      "cell_type": "code",
      "source": [
        "iris=load_iris()\n",
        "X=iris['data']\n",
        "y=iris['target']"
      ],
      "metadata": {
        "id": "sKA4rLOA3_sl"
      },
      "execution_count": 104,
      "outputs": []
    },
    {
      "cell_type": "code",
      "source": [
        "y.shape"
      ],
      "metadata": {
        "colab": {
          "base_uri": "https://localhost:8080/"
        },
        "id": "wvjLZ1-j3_w2",
        "outputId": "2aca7cb5-a3a0-4569-eba9-4c5a9aa0b7b2"
      },
      "execution_count": 105,
      "outputs": [
        {
          "output_type": "execute_result",
          "data": {
            "text/plain": [
              "(150,)"
            ]
          },
          "metadata": {},
          "execution_count": 105
        }
      ]
    },
    {
      "cell_type": "code",
      "source": [
        "### Preprocess the Data\n",
        "scaler=StandardScaler()\n",
        "X=scaler.fit_transform(X)\n",
        "X=torch.tensor(X,dtype=torch.float32)\n",
        "y=torch.tensor(y,dtype=torch.float32)"
      ],
      "metadata": {
        "id": "MD8A148Q0j46"
      },
      "execution_count": 106,
      "outputs": []
    },
    {
      "cell_type": "code",
      "source": [
        "X_train,X_test,y_train,y_test=train_test_split(X,y,test_size=.2,random_state=32)"
      ],
      "metadata": {
        "id": "eCiSFfhD0nwq"
      },
      "execution_count": 107,
      "outputs": []
    },
    {
      "cell_type": "code",
      "source": [
        "X_train.shape"
      ],
      "metadata": {
        "colab": {
          "base_uri": "https://localhost:8080/"
        },
        "id": "DYdSfndJ0sPw",
        "outputId": "661b9a0e-90c3-4c72-90f9-87822d9f17d3"
      },
      "execution_count": 108,
      "outputs": [
        {
          "output_type": "execute_result",
          "data": {
            "text/plain": [
              "torch.Size([120, 4])"
            ]
          },
          "metadata": {},
          "execution_count": 108
        }
      ]
    },
    {
      "cell_type": "code",
      "source": [
        "class LogisticRegression(nn.Module):\n",
        "  def __init__(self,n_features,h1):\n",
        "    super(LogisticRegression,self).__init__()\n",
        "    self.layer1=nn.Linear(n_features,h1)\n",
        "    self.layer2=nn.Linear(h1,3)\n",
        "    self.softmax=nn.Softmax(dim=1)\n",
        "\n",
        "  def forward(self,x):\n",
        "    out=F.relu(self.layer1(x))\n",
        "    out=F.relu(self.layer2(out))\n",
        "    out=self.softmax(out)\n",
        "    return out"
      ],
      "metadata": {
        "id": "_OZV22f50vel"
      },
      "execution_count": 109,
      "outputs": []
    },
    {
      "cell_type": "code",
      "source": [
        "def train(model,X,y,epocs=50,optimizer=None,loss_fn=None,bsz=20,seed=20):\n",
        "  torch.manual_seed(seed)\n",
        "  cost=[]\n",
        "  for epoch in range(epocs):\n",
        "    suffle_idx=torch.randperm(y.size(0))\n",
        "    batches =torch.split(suffle_idx,bsz)\n",
        "    for batch_idx in batches:\n",
        "      ###1. Compute the output\n",
        "      yhat=model(X[batch_idx])\n",
        "\n",
        "      ###2. Compute the error\n",
        "    \n",
        "      loss=loss_fn(yhat,y[batch_idx].long())\n",
        "\n",
        "      ###3. Compute the Gradient\n",
        "      optimizer.zero_grad()\n",
        "      loss.backward()\n",
        "\n",
        "      ###4. Update the Parameters\n",
        "      optimizer.step()\n",
        "\n",
        "      ### Log the loss\n",
        "    with torch.no_grad():\n",
        "      yhat=model(X)\n",
        "      curr_loss=loss_fn(yhat,y.long())\n",
        "      print('Epoc:%3d ' % epoch,end=\"\")\n",
        "      print('BCE %.2f' % curr_loss)\n",
        "      cost.append(curr_loss)\n",
        "  return cost"
      ],
      "metadata": {
        "id": "z-HxISYZ0vpi"
      },
      "execution_count": 110,
      "outputs": []
    },
    {
      "cell_type": "code",
      "source": [
        "model=LogisticRegression(n_features=X_train.size(1),h1=20)\n",
        "optimizer=torch.optim.Adam(model.parameters(),lr=.001)\n",
        "loss_fn=nn.CrossEntropyLoss()"
      ],
      "metadata": {
        "id": "SkXxfX3N09ly"
      },
      "execution_count": 115,
      "outputs": []
    },
    {
      "cell_type": "code",
      "source": [
        "cost =train(model,X_train,y_train,optimizer=optimizer,loss_fn=loss_fn)\n"
      ],
      "metadata": {
        "colab": {
          "base_uri": "https://localhost:8080/"
        },
        "id": "24XrrUVF09w_",
        "outputId": "9bb8410b-b394-4e05-cfed-c21c2b19c999"
      },
      "execution_count": 116,
      "outputs": [
        {
          "output_type": "stream",
          "name": "stdout",
          "text": [
            "Epoc:  0 BCE 1.16\n",
            "Epoc:  1 BCE 1.15\n",
            "Epoc:  2 BCE 1.14\n",
            "Epoc:  3 BCE 1.13\n",
            "Epoc:  4 BCE 1.12\n",
            "Epoc:  5 BCE 1.11\n",
            "Epoc:  6 BCE 1.10\n",
            "Epoc:  7 BCE 1.10\n",
            "Epoc:  8 BCE 1.09\n",
            "Epoc:  9 BCE 1.08\n",
            "Epoc: 10 BCE 1.07\n",
            "Epoc: 11 BCE 1.06\n",
            "Epoc: 12 BCE 1.06\n",
            "Epoc: 13 BCE 1.05\n",
            "Epoc: 14 BCE 1.04\n",
            "Epoc: 15 BCE 1.03\n",
            "Epoc: 16 BCE 1.03\n",
            "Epoc: 17 BCE 1.02\n",
            "Epoc: 18 BCE 1.02\n",
            "Epoc: 19 BCE 1.01\n",
            "Epoc: 20 BCE 1.01\n",
            "Epoc: 21 BCE 1.00\n",
            "Epoc: 22 BCE 1.00\n",
            "Epoc: 23 BCE 0.99\n",
            "Epoc: 24 BCE 0.99\n",
            "Epoc: 25 BCE 0.98\n",
            "Epoc: 26 BCE 0.98\n",
            "Epoc: 27 BCE 0.98\n",
            "Epoc: 28 BCE 0.97\n",
            "Epoc: 29 BCE 0.97\n",
            "Epoc: 30 BCE 0.96\n",
            "Epoc: 31 BCE 0.96\n",
            "Epoc: 32 BCE 0.96\n",
            "Epoc: 33 BCE 0.95\n",
            "Epoc: 34 BCE 0.95\n",
            "Epoc: 35 BCE 0.95\n",
            "Epoc: 36 BCE 0.94\n",
            "Epoc: 37 BCE 0.94\n",
            "Epoc: 38 BCE 0.93\n",
            "Epoc: 39 BCE 0.93\n",
            "Epoc: 40 BCE 0.92\n",
            "Epoc: 41 BCE 0.92\n",
            "Epoc: 42 BCE 0.91\n",
            "Epoc: 43 BCE 0.91\n",
            "Epoc: 44 BCE 0.90\n",
            "Epoc: 45 BCE 0.90\n",
            "Epoc: 46 BCE 0.90\n",
            "Epoc: 47 BCE 0.89\n",
            "Epoc: 48 BCE 0.89\n",
            "Epoc: 49 BCE 0.89\n"
          ]
        }
      ]
    },
    {
      "cell_type": "code",
      "source": [
        "import matplotlib.pyplot as plt\n",
        "plt.plot(range(len(cost)),cost)\n",
        "plt.ylabel('Binary Cross Entropy')\n",
        "plt.xlabel('Epoc')\n",
        "plt.show()"
      ],
      "metadata": {
        "colab": {
          "base_uri": "https://localhost:8080/",
          "height": 279
        },
        "id": "M8TpIsA21Hz1",
        "outputId": "7404c9da-a598-4a05-a96a-4716f7c5c27c"
      },
      "execution_count": 117,
      "outputs": [
        {
          "output_type": "display_data",
          "data": {
            "text/plain": [
              "<Figure size 432x288 with 1 Axes>"
            ],
            "image/png": "[encoded data removed]"
          },
          "metadata": {
            "needs_background": "light"
          }
        }
      ]
    },
    {
      "cell_type": "code",
      "source": [
        "from sklearn.metrics import accuracy_score"
      ],
      "metadata": {
        "id": "h7OL7LaX1NO2"
      },
      "execution_count": 118,
      "outputs": []
    },
    {
      "cell_type": "code",
      "source": [
        "with torch.no_grad():\n",
        "  train_pred=model(X_train)\n",
        "  #train_pred\n",
        "  train_acc=(torch.argmax(train_pred,dim=1)==y_train).float().mean()\n",
        "  print('Training Accuracy: %.2f' %train_acc)\n",
        "  test_pred=model(X_test)\n",
        "  test_acc=(torch.argmax(test_pred,dim=1)==y_test).float().mean()\n",
        "  print('Testing Accuracy: %.2f' %test_acc)"
      ],
      "metadata": {
        "colab": {
          "base_uri": "https://localhost:8080/"
        },
        "id": "zS811Acw1SK8",
        "outputId": "7f5c310a-3d8f-47a4-9751-1b11d76234c5"
      },
      "execution_count": 119,
      "outputs": [
        {
          "output_type": "stream",
          "name": "stdout",
          "text": [
            "Training Accuracy: 0.66\n",
            "Testing Accuracy: 0.67\n"
          ]
        }
      ]
    },
    {
      "cell_type": "code",
      "source": [
        "### MULTIMONIAL LOGISTIC REFRESSION"
      ],
      "metadata": {
        "id": "1p4teujc1SSe"
      },
      "execution_count": 67,
      "outputs": []
    },
    {
      "cell_type": "code",
      "source": [
        "import torch\n",
        "import torchvision\n",
        "import torchvision.transforms as transforms"
      ],
      "metadata": {
        "id": "mb9QA5d01bv0"
      },
      "execution_count": 71,
      "outputs": []
    },
    {
      "cell_type": "code",
      "source": [
        "import torch\n",
        "from torch.utils.data import Dataset\n",
        "from torchvision import datasets\n",
        "from torchvision.transforms import ToTensor\n",
        "import matplotlib.pyplot as plt"
      ],
      "metadata": {
        "id": "XPFJFWO67NG-"
      },
      "execution_count": 123,
      "outputs": []
    },
    {
      "cell_type": "code",
      "source": [
        "from matplotlib.transforms import Transform\n",
        "transform=transforms.ToTensor()\n",
        "\n",
        "### Data Loading\n",
        "traindata=datasets.FashionMNIST(\n",
        "    root=\"data\",\n",
        "    train=True,\n",
        "    download=True,\n",
        "    transform=ToTensor()\n",
        ")\n",
        "trainloader=torch.utils.data.DataLoader(traindata,batch_size=32,shuffle=False)\n",
        "\n",
        "testdata=datasets.FashionMNIST(\n",
        "    root=\"data\",\n",
        "    train=False,\n",
        "    download=True,\n",
        "    transform=ToTensor()\n",
        ")\n",
        "testloader=torch.utils.data.DataLoader(testdata,batch_size=32,shuffle=False)"
      ],
      "metadata": {
        "colab": {
          "base_uri": "https://localhost:8080/",
          "height": 423,
          "referenced_widgets": [
            "917be17c75314ab6b6a2e21945df33a3",
            "b88d41fb87884188a2f60abbbaa6e3af",
            "156c1bd367024bdbadf5d74005cdfb20",
            "eb8ed6513e194516a80c8222546c0086",
            "8f589dd47a8047ceb9f319deb9407655",
            "ff6a01ab7c754c89b794263fb1b67003",
            "871fbc3d63fe4c2bb4e8b7e6877e6a53",
            "7642410b1fa74fde8a23f1720e337c25",
            "6e8b90f46cce4ecba5527e0d38820bff",
            "192776c5de674953aed539223a08c4df",
            "eabffa01b3fd448797c7f7cb9ba9567f",
            "3ade44dc12274435bc6b5f11eaedb0eb",
            "05f7fe99fc174a7488acfcf847379fbc",
            "7b57b9fc3eb247488bb4049e12d24ca5",
            "bf821e99b2104112a9689db70d5c2db2",
            "7e3e09ab39664afea502536fe7da46d9",
            "61298938cb064407a48c95051ebfd69e",
            "7d6cf2a065204abeac4b0baeb5598119",
            "56edb1f7294c48f6b00499beb764e70d",
            "df0c19f534d8455d8dfb02749c29df63",
            "f89743238d934c8386ec5d1076776ad4",
            "e59b15799a4f4f1cba82a4f1660a44eb",
            "0c7700d3a6304ea0b0409a13fc7591a9",
            "43a025523160429ca036d7ce8cb2de4d",
            "7220ae242ce24afc9e445e57b986049a",
            "92e768f623d447eaaa27028dc801724b",
            "b0465cbc736c487c909ec81dce998e49",
            "78e328685ebe47389b034a097a75295b",
            "757b8ee2025c4f3f8af136877904e0c5",
            "a2f1ee8671a64524bf54f04df1d07b64",
            "8064169761f247bab614b50057996c0e",
            "06ce60a6c47044c994ec899d2df9d420",
            "3da22c01fc48423ead2a3300e306b10d",
            "e798cd96e8ab4b0ea4ba2b4674f24d09",
            "d88d6f2efa4d4d8bad265d977f353f58",
            "de646b3ed8e24ed895cfd6861e892c85",
            "f9275e01441249a3ac46688601b8a5bd",
            "02e2a144aba14629a8a61476b4ce4c0d",
            "97f736e3bc80409b9f4b1621d7ae2fe8",
            "bffff4b3dccf4839a7b20bfd9596f050",
            "dcc5fba5d9314d0f9e6fe48c6b406b7c",
            "35c86d714b5a4ac391c3df4f3b00c886",
            "e9e7a8874c3142bb8e81f527f353bbf1",
            "5645f52a07d44aedbfce3a78b2358133"
          ]
        },
        "id": "zoDZaz6y1hCb",
        "outputId": "b6209897-57f7-4985-8e8d-c0d0303ed88d"
      },
      "execution_count": 124,
      "outputs": [
        {
          "output_type": "stream",
          "name": "stdout",
          "text": [
            "Downloading http://fashion-mnist.s3-website.eu-central-1.amazonaws.com/train-images-idx3-ubyte.gz\n",
            "Downloading http://fashion-mnist.s3-website.eu-central-1.amazonaws.com/train-images-idx3-ubyte.gz to data/FashionMNIST/raw/train-images-idx3-ubyte.gz\n"
          ]
        },
        {
          "output_type": "display_data",
          "data": {
            "text/plain": [
              "  0%|          | 0/26421880 [00:00<?, ?it/s]"
            ],
            "application/vnd.jupyter.widget-view+json": {
              "version_major": 2,
              "version_minor": 0,
              "model_id": "917be17c75314ab6b6a2e21945df33a3"
            }
          },
          "metadata": {}
        },
        {
          "output_type": "stream",
          "name": "stdout",
          "text": [
            "Extracting data/FashionMNIST/raw/train-images-idx3-ubyte.gz to data/FashionMNIST/raw\n",
            "\n",
            "Downloading http://fashion-mnist.s3-website.eu-central-1.amazonaws.com/train-labels-idx1-ubyte.gz\n",
            "Downloading http://fashion-mnist.s3-website.eu-central-1.amazonaws.com/train-labels-idx1-ubyte.gz to data/FashionMNIST/raw/train-labels-idx1-ubyte.gz\n"
          ]
        },
        {
          "output_type": "display_data",
          "data": {
            "text/plain": [
              "  0%|          | 0/29515 [00:00<?, ?it/s]"
            ],
            "application/vnd.jupyter.widget-view+json": {
              "version_major": 2,
              "version_minor": 0,
              "model_id": "3ade44dc12274435bc6b5f11eaedb0eb"
            }
          },
          "metadata": {}
        },
        {
          "output_type": "stream",
          "name": "stdout",
          "text": [
            "Extracting data/FashionMNIST/raw/train-labels-idx1-ubyte.gz to data/FashionMNIST/raw\n",
            "\n",
            "Downloading http://fashion-mnist.s3-website.eu-central-1.amazonaws.com/t10k-images-idx3-ubyte.gz\n",
            "Downloading http://fashion-mnist.s3-website.eu-central-1.amazonaws.com/t10k-images-idx3-ubyte.gz to data/FashionMNIST/raw/t10k-images-idx3-ubyte.gz\n"
          ]
        },
        {
          "output_type": "display_data",
          "data": {
            "text/plain": [
              "  0%|          | 0/4422102 [00:00<?, ?it/s]"
            ],
            "application/vnd.jupyter.widget-view+json": {
              "version_major": 2,
              "version_minor": 0,
              "model_id": "0c7700d3a6304ea0b0409a13fc7591a9"
            }
          },
          "metadata": {}
        },
        {
          "output_type": "stream",
          "name": "stdout",
          "text": [
            "Extracting data/FashionMNIST/raw/t10k-images-idx3-ubyte.gz to data/FashionMNIST/raw\n",
            "\n",
            "Downloading http://fashion-mnist.s3-website.eu-central-1.amazonaws.com/t10k-labels-idx1-ubyte.gz\n",
            "Downloading http://fashion-mnist.s3-website.eu-central-1.amazonaws.com/t10k-labels-idx1-ubyte.gz to data/FashionMNIST/raw/t10k-labels-idx1-ubyte.gz\n"
          ]
        },
        {
          "output_type": "display_data",
          "data": {
            "text/plain": [
              "  0%|          | 0/5148 [00:00<?, ?it/s]"
            ],
            "application/vnd.jupyter.widget-view+json": {
              "version_major": 2,
              "version_minor": 0,
              "model_id": "e798cd96e8ab4b0ea4ba2b4674f24d09"
            }
          },
          "metadata": {}
        },
        {
          "output_type": "stream",
          "name": "stdout",
          "text": [
            "Extracting data/FashionMNIST/raw/t10k-labels-idx1-ubyte.gz to data/FashionMNIST/raw\n",
            "\n"
          ]
        }
      ]
    },
    {
      "cell_type": "code",
      "source": [
        "import matplotlib.pyplot as plt\n",
        "import numpy as np\n",
        "def imshow(img):\n",
        "  img=img.numpy()\n",
        "  img=np.transpose(img,(1,2,0))\n",
        "  plt.imshow(img)\n",
        "  plt.show()"
      ],
      "metadata": {
        "id": "qxAoLiUk1nhp"
      },
      "execution_count": 125,
      "outputs": []
    },
    {
      "cell_type": "code",
      "source": [
        "dataiter=iter(trainloader)\n",
        "images,labels=dataiter.next()\n",
        "imshow(torchvision.utils.make_grid(images))\n",
        "print(labels)"
      ],
      "metadata": {
        "colab": {
          "base_uri": "https://localhost:8080/",
          "height": 255
        },
        "id": "8aXCb2YY1rh7",
        "outputId": "bc66305f-92eb-4653-b56c-ad2e79c5d393"
      },
      "execution_count": 126,
      "outputs": [
        {
          "output_type": "display_data",
          "data": {
            "text/plain": [
              "<Figure size 432x288 with 1 Axes>"
            ],
            "image/png": "[encoded data removed]"
          },
          "metadata": {
            "needs_background": "light"
          }
        },
        {
          "output_type": "stream",
          "name": "stdout",
          "text": [
            "tensor([9, 0, 0, 3, 0, 2, 7, 2, 5, 5, 0, 9, 5, 5, 7, 9, 1, 0, 6, 4, 3, 1, 4, 8,\n",
            "        4, 3, 0, 2, 4, 4, 5, 3])\n"
          ]
        }
      ]
    },
    {
      "cell_type": "code",
      "source": [
        "images.view(images.size(0),-1).shape"
      ],
      "metadata": {
        "colab": {
          "base_uri": "https://localhost:8080/"
        },
        "id": "_y2XO-gV1v-W",
        "outputId": "6769c2b9-298e-4c2a-e665-4d974d71542c"
      },
      "execution_count": 127,
      "outputs": [
        {
          "output_type": "execute_result",
          "data": {
            "text/plain": [
              "torch.Size([32, 784])"
            ]
          },
          "metadata": {},
          "execution_count": 127
        }
      ]
    },
    {
      "cell_type": "code",
      "source": [
        "print(images[0].shape)"
      ],
      "metadata": {
        "colab": {
          "base_uri": "https://localhost:8080/"
        },
        "id": "KhUtGGf61z0Y",
        "outputId": "ea50cec6-5b8e-4391-903e-3b53ac0dd56f"
      },
      "execution_count": 128,
      "outputs": [
        {
          "output_type": "stream",
          "name": "stdout",
          "text": [
            "torch.Size([1, 28, 28])\n"
          ]
        }
      ]
    },
    {
      "cell_type": "code",
      "source": [
        "import torch.nn as nn\n",
        "import torch.nn.functional as F\n",
        "class LogisticNet(nn.Module):\n",
        "  def __init__(self):\n",
        "    super().__init__()\n",
        "    self.layer1=nn.Linear(1*28*28,100)\n",
        "    self.layer2=nn.Linear(100,30)\n",
        "    self.layer3=nn.Linear(30,10)\n",
        "    \n",
        "  def forward(self,x):\n",
        "    x=F.relu(self.layer1(x))\n",
        "    x=F.relu(self.layer2(x))\n",
        "    x=self.layer3(x)\n",
        "    return x\n",
        "\n",
        "\n",
        "\n",
        "model=LogisticNet()"
      ],
      "metadata": {
        "id": "PlrG6_-j2O6u"
      },
      "execution_count": 129,
      "outputs": []
    },
    {
      "cell_type": "code",
      "source": [
        "model"
      ],
      "metadata": {
        "colab": {
          "base_uri": "https://localhost:8080/"
        },
        "id": "0npOr6Dr2TB6",
        "outputId": "9cc8587d-5e43-4f40-8b01-bbb074470eab"
      },
      "execution_count": 130,
      "outputs": [
        {
          "output_type": "execute_result",
          "data": {
            "text/plain": [
              "LogisticNet(\n",
              "  (layer1): Linear(in_features=784, out_features=100, bias=True)\n",
              "  (layer2): Linear(in_features=100, out_features=30, bias=True)\n",
              "  (layer3): Linear(in_features=30, out_features=10, bias=True)\n",
              ")"
            ]
          },
          "metadata": {},
          "execution_count": 130
        }
      ]
    },
    {
      "cell_type": "code",
      "source": [
        "import torch.optim as optim"
      ],
      "metadata": {
        "id": "6WztTPXl2TNH"
      },
      "execution_count": 131,
      "outputs": []
    },
    {
      "cell_type": "code",
      "source": [
        "def train_mnst(model,train_loader,test_loader,EPOCHS=100,lr=.001,seed=32):\n",
        "  torch.manual_seed(seed)\n",
        "  device = torch.device('cuda' if torch.cuda.is_available() else 'cpu')\n",
        "  cost=[]\n",
        "  model.to(device)\n",
        "  optimizer=optim.SGD(model.parameters(),lr=lr)\n",
        "  loss_function=nn.CrossEntropyLoss()\n",
        "  for epoch in range(EPOCHS):\n",
        "\n",
        "    curr_loss=0.0\n",
        "    currect=0.0\n",
        "    t_currect=0.0\n",
        "    for i,data in enumerate(train_loader,0):\n",
        "\n",
        "\n",
        "      ## Get a Batch of Data\n",
        "      input,target=data[0].to(device),data[1].to(device)\n",
        "      ###1. Compute the output\n",
        "     \n",
        "      ###Flatten the input\n",
        "      input=input.view(input.size(0),-1)\n",
        "      yhat=model(input)\n",
        "      \n",
        "      ###2. Compute the loss\n",
        "      loss=loss_function(yhat,target)\n",
        "      ###3. Compute the gradient\n",
        "\n",
        "      optimizer.zero_grad()\n",
        "      loss.backward()\n",
        "    \n",
        "      ###4. Update the parameters\n",
        "\n",
        "      optimizer.step()\n",
        "      ### Log the record\n",
        "      with torch.no_grad():\n",
        "        yhat=model(input)\n",
        "        err=loss_function(yhat,target)\n",
        "        curr_loss+=err\n",
        "        b_currect=((torch.argmax(yhat,dim=1)==target).sum()).float()\n",
        "      \n",
        "        currect+=b_currect\n",
        "    ### Calculate the accuracy    \n",
        "    with torch.no_grad():\n",
        "      for data in test_loader:\n",
        "          ims,lbs=data[0].to(device),data[1].to(device)\n",
        "          pred=model(ims.view(ims.size(0),-1))\n",
        "          t_currect+=(torch.argmax(pred,dim=1)==lbs).sum()\n",
        "          print('Current Epoch: %3d' %(epoch+1),end=\"\")\n",
        "      print(' | Loss: %5.2f' %curr_loss,end=\"\")\n",
        "      accuracy=currect.sum()/len(traindata)*100\n",
        "      test_accuracy=t_currect.sum()/len(testdata)*100\n",
        "      #print(currect)\n",
        "      print(' | Accuracy: %.2f' %accuracy,end=\"\")\n",
        "      print(' | Test Accuracy: %.2f' %test_accuracy )\n",
        "  return cost"
      ],
      "metadata": {
        "id": "HNCO0Okg2qfj"
      },
      "execution_count": 132,
      "outputs": []
    },
    {
      "cell_type": "code",
      "source": [
        "cost=train_mnst(model,trainloader,testloader,EPOCHS=10)"
      ],
      "metadata": {
        "colab": {
          "base_uri": "https://localhost:8080/"
        },
        "id": "a9Q9IBls3OpE",
        "outputId": "103cd475-c734-464e-fb43-4bcbb289df1d"
      },
      "execution_count": 134,
      "outputs": [
        {
          "output_type": "stream",
          "name": "stdout",
          "text": [
            "Current Epoch:   1Current Epoch:   1Current Epoch:   1Current Epoch:   1Current Epoch:   1Current Epoch:   1Current Epoch:   1Current Epoch:   1Current Epoch:   1Current Epoch:   1Current Epoch:   1Current Epoch:   1Current Epoch:   1Current Epoch:   1Current Epoch:   1Current Epoch:   1Current Epoch:   1Current Epoch:   1Current Epoch:   1Current Epoch:   1Current Epoch:   1Current Epoch:   1Current Epoch:   1Current Epoch:   1Current Epoch:   1Current Epoch:   1Current Epoch:   1Current Epoch:   1Current Epoch:   1Current Epoch:   1Current Epoch:   1Current Epoch:   1Current Epoch:   1Current Epoch:   1Current Epoch:   1Current Epoch:   1Current Epoch:   1Current Epoch:   1Current Epoch:   1Current Epoch:   1Current Epoch:   1Current Epoch:   1Current Epoch:   1Current Epoch:   1Current Epoch:   1Current Epoch:   1Current Epoch:   1Current Epoch:   1Current Epoch:   1Current Epoch:   1Current Epoch:   1Current Epoch:   1Current Epoch:   1Current Epoch:   1Current Epoch:   1Current Epoch:   1Current Epoch:   1Current Epoch:   1Current Epoch:   1Current Epoch:   1Current Epoch:   1Current Epoch:   1Current Epoch:   1Current Epoch:   1Current Epoch:   1Current Epoch:   1Current Epoch:   1Current Epoch:   1Current Epoch:   1Current Epoch:   1Current Epoch:   1Current Epoch:   1Current Epoch:   1Current Epoch:   1Current Epoch:   1Current Epoch:   1Current Epoch:   1Current Epoch:   1Current Epoch:   1Current Epoch:   1Current Epoch:   1Current Epoch:   1Current Epoch:   1Current Epoch:   1Current Epoch:   1Current Epoch:   1Current Epoch:   1Current Epoch:   1Current Epoch:   1Current Epoch:   1Current Epoch:   1Current Epoch:   1Current Epoch:   1Current Epoch:   1Current Epoch:   1Current Epoch:   1Current Epoch:   1Current Epoch:   1Current Epoch:   1Current Epoch:   1Current Epoch:   1Current Epoch:   1Current Epoch:   1Current Epoch:   1Current Epoch:   1Current Epoch:   1Current Epoch:   1Current Epoch:   1Current Epoch:   1Current Epoch:   1Current Epoch:   1Current Epoch:   1Current Epoch:   1Current Epoch:   1Current Epoch:   1Current Epoch:   1Current Epoch:   1Current Epoch:   1Current Epoch:   1Current Epoch:   1Current Epoch:   1Current Epoch:   1Current Epoch:   1Current Epoch:   1Current Epoch:   1Current Epoch:   1Current Epoch:   1Current Epoch:   1Current Epoch:   1Current Epoch:   1Current Epoch:   1Current Epoch:   1Current Epoch:   1Current Epoch:   1Current Epoch:   1Current Epoch:   1Current Epoch:   1Current Epoch:   1Current Epoch:   1Current Epoch:   1Current Epoch:   1Current Epoch:   1Current Epoch:   1Current Epoch:   1Current Epoch:   1Current Epoch:   1Current Epoch:   1Current Epoch:   1Current Epoch:   1Current Epoch:   1Current Epoch:   1Current Epoch:   1Current Epoch:   1Current Epoch:   1Current Epoch:   1Current Epoch:   1Current Epoch:   1Current Epoch:   1Current Epoch:   1Current Epoch:   1Current Epoch:   1Current Epoch:   1Current Epoch:   1Current Epoch:   1Current Epoch:   1Current Epoch:   1Current Epoch:   1Current Epoch:   1Current Epoch:   1Current Epoch:   1Current Epoch:   1Current Epoch:   1Current Epoch:   1Current Epoch:   1Current Epoch:   1Current Epoch:   1Current Epoch:   1Current Epoch:   1Current Epoch:   1Current Epoch:   1Current Epoch:   1Current Epoch:   1Current Epoch:   1Current Epoch:   1Current Epoch:   1Current Epoch:   1Current Epoch:   1Current Epoch:   1Current Epoch:   1Current Epoch:   1Current Epoch:   1Current Epoch:   1Current Epoch:   1Current Epoch:   1Current Epoch:   1Current Epoch:   1Current Epoch:   1Current Epoch:   1Current Epoch:   1Current Epoch:   1Current Epoch:   1Current Epoch:   1Current Epoch:   1Current Epoch:   1Current Epoch:   1Current Epoch:   1Current Epoch:   1Current Epoch:   1Current Epoch:   1Current Epoch:   1Current Epoch:   1Current Epoch:   1Current Epoch:   1Current Epoch:   1Current Epoch:   1Current Epoch:   1Current Epoch:   1Current Epoch:   1Current Epoch:   1Current Epoch:   1Current Epoch:   1Current Epoch:   1Current Epoch:   1Current Epoch:   1Current Epoch:   1Current Epoch:   1Current Epoch:   1Current Epoch:   1Current Epoch:   1Current Epoch:   1Current Epoch:   1Current Epoch:   1Current Epoch:   1Current Epoch:   1Current Epoch:   1Current Epoch:   1Current Epoch:   1Current Epoch:   1Current Epoch:   1Current Epoch:   1Current Epoch:   1Current Epoch:   1Current Epoch:   1Current Epoch:   1Current Epoch:   1Current Epoch:   1Current Epoch:   1Current Epoch:   1Current Epoch:   1Current Epoch:   1Current Epoch:   1Current Epoch:   1Current Epoch:   1Current Epoch:   1Current Epoch:   1Current Epoch:   1Current Epoch:   1Current Epoch:   1Current Epoch:   1Current Epoch:   1Current Epoch:   1Current Epoch:   1Current Epoch:   1Current Epoch:   1Current Epoch:   1Current Epoch:   1Current Epoch:   1Current Epoch:   1Current Epoch:   1Current Epoch:   1Current Epoch:   1Current Epoch:   1Current Epoch:   1Current Epoch:   1Current Epoch:   1Current Epoch:   1Current Epoch:   1Current Epoch:   1Current Epoch:   1Current Epoch:   1Current Epoch:   1Current Epoch:   1Current Epoch:   1Current Epoch:   1Current Epoch:   1Current Epoch:   1Current Epoch:   1Current Epoch:   1Current Epoch:   1Current Epoch:   1Current Epoch:   1Current Epoch:   1Current Epoch:   1Current Epoch:   1Current Epoch:   1Current Epoch:   1Current Epoch:   1Current Epoch:   1Current Epoch:   1Current Epoch:   1Current Epoch:   1Current Epoch:   1Current Epoch:   1Current Epoch:   1Current Epoch:   1Current Epoch:   1Current Epoch:   1Current Epoch:   1Current Epoch:   1Current Epoch:   1Current Epoch:   1Current Epoch:   1Current Epoch:   1 | Loss: 2268.00 | Accuracy: 60.60 | Test Accuracy: 60.78\n",
            "Current Epoch:   2Current Epoch:   2Current Epoch:   2Current Epoch:   2Current Epoch:   2Current Epoch:   2Current Epoch:   2Current Epoch:   2Current Epoch:   2Current Epoch:   2Current Epoch:   2Current Epoch:   2Current Epoch:   2Current Epoch:   2Current Epoch:   2Current Epoch:   2Current Epoch:   2Current Epoch:   2Current Epoch:   2Current Epoch:   2Current Epoch:   2Current Epoch:   2Current Epoch:   2Current Epoch:   2Current Epoch:   2Current Epoch:   2Current Epoch:   2Current Epoch:   2Current Epoch:   2Current Epoch:   2Current Epoch:   2Current Epoch:   2Current Epoch:   2Current Epoch:   2Current Epoch:   2Current Epoch:   2Current Epoch:   2Current Epoch:   2Current Epoch:   2Current Epoch:   2Current Epoch:   2Current Epoch:   2Current Epoch:   2Current Epoch:   2Current Epoch:   2Current Epoch:   2Current Epoch:   2Current Epoch:   2Current Epoch:   2Current Epoch:   2Current Epoch:   2Current Epoch:   2Current Epoch:   2Current Epoch:   2Current Epoch:   2Current Epoch:   2Current Epoch:   2Current Epoch:   2Current Epoch:   2Current Epoch:   2Current Epoch:   2Current Epoch:   2Current Epoch:   2Current Epoch:   2Current Epoch:   2Current Epoch:   2Current Epoch:   2Current Epoch:   2Current Epoch:   2Current Epoch:   2Current Epoch:   2Current Epoch:   2Current Epoch:   2Current Epoch:   2Current Epoch:   2Current Epoch:   2Current Epoch:   2Current Epoch:   2Current Epoch:   2Current Epoch:   2Current Epoch:   2Current Epoch:   2Current Epoch:   2Current Epoch:   2Current Epoch:   2Current Epoch:   2Current Epoch:   2Current Epoch:   2Current Epoch:   2Current Epoch:   2Current Epoch:   2Current Epoch:   2Current Epoch:   2Current Epoch:   2Current Epoch:   2Current Epoch:   2Current Epoch:   2Current Epoch:   2Current Epoch:   2Current Epoch:   2Current Epoch:   2Current Epoch:   2Current Epoch:   2Current Epoch:   2Current Epoch:   2Current Epoch:   2Current Epoch:   2Current Epoch:   2Current Epoch:   2Current Epoch:   2Current Epoch:   2Current Epoch:   2Current Epoch:   2Current Epoch:   2Current Epoch:   2Current Epoch:   2Current Epoch:   2Current Epoch:   2Current Epoch:   2Current Epoch:   2Current Epoch:   2Current Epoch:   2Current Epoch:   2Current Epoch:   2Current Epoch:   2Current Epoch:   2Current Epoch:   2Current Epoch:   2Current Epoch:   2Current Epoch:   2Current Epoch:   2Current Epoch:   2Current Epoch:   2Current Epoch:   2Current Epoch:   2Current Epoch:   2Current Epoch:   2Current Epoch:   2Current Epoch:   2Current Epoch:   2Current Epoch:   2Current Epoch:   2Current Epoch:   2Current Epoch:   2Current Epoch:   2Current Epoch:   2Current Epoch:   2Current Epoch:   2Current Epoch:   2Current Epoch:   2Current Epoch:   2Current Epoch:   2Current Epoch:   2Current Epoch:   2Current Epoch:   2Current Epoch:   2Current Epoch:   2Current Epoch:   2Current Epoch:   2Current Epoch:   2Current Epoch:   2Current Epoch:   2Current Epoch:   2Current Epoch:   2Current Epoch:   2Current Epoch:   2Current Epoch:   2Current Epoch:   2Current Epoch:   2Current Epoch:   2Current Epoch:   2Current Epoch:   2Current Epoch:   2Current Epoch:   2Current Epoch:   2Current Epoch:   2Current Epoch:   2Current Epoch:   2Current Epoch:   2Current Epoch:   2Current Epoch:   2Current Epoch:   2Current Epoch:   2Current Epoch:   2Current Epoch:   2Current Epoch:   2Current Epoch:   2Current Epoch:   2Current Epoch:   2Current Epoch:   2Current Epoch:   2Current Epoch:   2Current Epoch:   2Current Epoch:   2Current Epoch:   2Current Epoch:   2Current Epoch:   2Current Epoch:   2Current Epoch:   2Current Epoch:   2Current Epoch:   2Current Epoch:   2Current Epoch:   2Current Epoch:   2Current Epoch:   2Current Epoch:   2Current Epoch:   2Current Epoch:   2Current Epoch:   2Current Epoch:   2Current Epoch:   2Current Epoch:   2Current Epoch:   2Current Epoch:   2Current Epoch:   2Current Epoch:   2Current Epoch:   2Current Epoch:   2Current Epoch:   2Current Epoch:   2Current Epoch:   2Current Epoch:   2Current Epoch:   2Current Epoch:   2Current Epoch:   2Current Epoch:   2Current Epoch:   2Current Epoch:   2Current Epoch:   2Current Epoch:   2Current Epoch:   2Current Epoch:   2Current Epoch:   2Current Epoch:   2Current Epoch:   2Current Epoch:   2Current Epoch:   2Current Epoch:   2Current Epoch:   2Current Epoch:   2Current Epoch:   2Current Epoch:   2Current Epoch:   2Current Epoch:   2Current Epoch:   2Current Epoch:   2Current Epoch:   2Current Epoch:   2Current Epoch:   2Current Epoch:   2Current Epoch:   2Current Epoch:   2Current Epoch:   2Current Epoch:   2Current Epoch:   2Current Epoch:   2Current Epoch:   2Current Epoch:   2Current Epoch:   2Current Epoch:   2Current Epoch:   2Current Epoch:   2Current Epoch:   2Current Epoch:   2Current Epoch:   2Current Epoch:   2Current Epoch:   2Current Epoch:   2Current Epoch:   2Current Epoch:   2Current Epoch:   2Current Epoch:   2Current Epoch:   2Current Epoch:   2Current Epoch:   2Current Epoch:   2Current Epoch:   2Current Epoch:   2Current Epoch:   2Current Epoch:   2Current Epoch:   2Current Epoch:   2Current Epoch:   2Current Epoch:   2Current Epoch:   2Current Epoch:   2Current Epoch:   2Current Epoch:   2Current Epoch:   2Current Epoch:   2Current Epoch:   2Current Epoch:   2Current Epoch:   2Current Epoch:   2Current Epoch:   2Current Epoch:   2Current Epoch:   2Current Epoch:   2Current Epoch:   2Current Epoch:   2Current Epoch:   2Current Epoch:   2Current Epoch:   2Current Epoch:   2Current Epoch:   2Current Epoch:   2Current Epoch:   2Current Epoch:   2Current Epoch:   2Current Epoch:   2Current Epoch:   2Current Epoch:   2Current Epoch:   2 | Loss: 1884.66 | Accuracy: 63.69 | Test Accuracy: 63.35\n",
            "Current Epoch:   3Current Epoch:   3Current Epoch:   3Current Epoch:   3Current Epoch:   3Current Epoch:   3Current Epoch:   3Current Epoch:   3Current Epoch:   3Current Epoch:   3Current Epoch:   3Current Epoch:   3Current Epoch:   3Current Epoch:   3Current Epoch:   3Current Epoch:   3Current Epoch:   3Current Epoch:   3Current Epoch:   3Current Epoch:   3Current Epoch:   3Current Epoch:   3Current Epoch:   3Current Epoch:   3Current Epoch:   3Current Epoch:   3Current Epoch:   3Current Epoch:   3Current Epoch:   3Current Epoch:   3Current Epoch:   3Current Epoch:   3Current Epoch:   3Current Epoch:   3Current Epoch:   3Current Epoch:   3Current Epoch:   3Current Epoch:   3Current Epoch:   3Current Epoch:   3Current Epoch:   3Current Epoch:   3Current Epoch:   3Current Epoch:   3Current Epoch:   3Current Epoch:   3Current Epoch:   3Current Epoch:   3Current Epoch:   3Current Epoch:   3Current Epoch:   3Current Epoch:   3Current Epoch:   3Current Epoch:   3Current Epoch:   3Current Epoch:   3Current Epoch:   3Current Epoch:   3Current Epoch:   3Current Epoch:   3Current Epoch:   3Current Epoch:   3Current Epoch:   3Current Epoch:   3Current Epoch:   3Current Epoch:   3Current Epoch:   3Current Epoch:   3Current Epoch:   3Current Epoch:   3Current Epoch:   3Current Epoch:   3Current Epoch:   3Current Epoch:   3Current Epoch:   3Current Epoch:   3Current Epoch:   3Current Epoch:   3Current Epoch:   3Current Epoch:   3Current Epoch:   3Current Epoch:   3Current Epoch:   3Current Epoch:   3Current Epoch:   3Current Epoch:   3Current Epoch:   3Current Epoch:   3Current Epoch:   3Current Epoch:   3Current Epoch:   3Current Epoch:   3Current Epoch:   3Current Epoch:   3Current Epoch:   3Current Epoch:   3Current Epoch:   3Current Epoch:   3Current Epoch:   3Current Epoch:   3Current Epoch:   3Current Epoch:   3Current Epoch:   3Current Epoch:   3Current Epoch:   3Current Epoch:   3Current Epoch:   3Current Epoch:   3Current Epoch:   3Current Epoch:   3Current Epoch:   3Current Epoch:   3Current Epoch:   3Current Epoch:   3Current Epoch:   3Current Epoch:   3Current Epoch:   3Current Epoch:   3Current Epoch:   3Current Epoch:   3Current Epoch:   3Current Epoch:   3Current Epoch:   3Current Epoch:   3Current Epoch:   3Current Epoch:   3Current Epoch:   3Current Epoch:   3Current Epoch:   3Current Epoch:   3Current Epoch:   3Current Epoch:   3Current Epoch:   3Current Epoch:   3Current Epoch:   3Current Epoch:   3Current Epoch:   3Current Epoch:   3Current Epoch:   3Current Epoch:   3Current Epoch:   3Current Epoch:   3Current Epoch:   3Current Epoch:   3Current Epoch:   3Current Epoch:   3Current Epoch:   3Current Epoch:   3Current Epoch:   3Current Epoch:   3Current Epoch:   3Current Epoch:   3Current Epoch:   3Current Epoch:   3Current Epoch:   3Current Epoch:   3Current Epoch:   3Current Epoch:   3Current Epoch:   3Current Epoch:   3Current Epoch:   3Current Epoch:   3Current Epoch:   3Current Epoch:   3Current Epoch:   3Current Epoch:   3Current Epoch:   3Current Epoch:   3Current Epoch:   3Current Epoch:   3Current Epoch:   3Current Epoch:   3Current Epoch:   3Current Epoch:   3Current Epoch:   3Current Epoch:   3Current Epoch:   3Current Epoch:   3Current Epoch:   3Current Epoch:   3Current Epoch:   3Current Epoch:   3Current Epoch:   3Current Epoch:   3Current Epoch:   3Current Epoch:   3Current Epoch:   3Current Epoch:   3Current Epoch:   3Current Epoch:   3Current Epoch:   3Current Epoch:   3Current Epoch:   3Current Epoch:   3Current Epoch:   3Current Epoch:   3Current Epoch:   3Current Epoch:   3Current Epoch:   3Current Epoch:   3Current Epoch:   3Current Epoch:   3Current Epoch:   3Current Epoch:   3Current Epoch:   3Current Epoch:   3Current Epoch:   3Current Epoch:   3Current Epoch:   3Current Epoch:   3Current Epoch:   3Current Epoch:   3Current Epoch:   3Current Epoch:   3Current Epoch:   3Current Epoch:   3Current Epoch:   3Current Epoch:   3Current Epoch:   3Current Epoch:   3Current Epoch:   3Current Epoch:   3Current Epoch:   3Current Epoch:   3Current Epoch:   3Current Epoch:   3Current Epoch:   3Current Epoch:   3Current Epoch:   3Current Epoch:   3Current Epoch:   3Current Epoch:   3Current Epoch:   3Current Epoch:   3Current Epoch:   3Current Epoch:   3Current Epoch:   3Current Epoch:   3Current Epoch:   3Current Epoch:   3Current Epoch:   3Current Epoch:   3Current Epoch:   3Current Epoch:   3Current Epoch:   3Current Epoch:   3Current Epoch:   3Current Epoch:   3Current Epoch:   3Current Epoch:   3Current Epoch:   3Current Epoch:   3Current Epoch:   3Current Epoch:   3Current Epoch:   3Current Epoch:   3Current Epoch:   3Current Epoch:   3Current Epoch:   3Current Epoch:   3Current Epoch:   3Current Epoch:   3Current Epoch:   3Current Epoch:   3Current Epoch:   3Current Epoch:   3Current Epoch:   3Current Epoch:   3Current Epoch:   3Current Epoch:   3Current Epoch:   3Current Epoch:   3Current Epoch:   3Current Epoch:   3Current Epoch:   3Current Epoch:   3Current Epoch:   3Current Epoch:   3Current Epoch:   3Current Epoch:   3Current Epoch:   3Current Epoch:   3Current Epoch:   3Current Epoch:   3Current Epoch:   3Current Epoch:   3Current Epoch:   3Current Epoch:   3Current Epoch:   3Current Epoch:   3Current Epoch:   3Current Epoch:   3Current Epoch:   3Current Epoch:   3Current Epoch:   3Current Epoch:   3Current Epoch:   3Current Epoch:   3Current Epoch:   3Current Epoch:   3Current Epoch:   3Current Epoch:   3Current Epoch:   3Current Epoch:   3Current Epoch:   3Current Epoch:   3Current Epoch:   3Current Epoch:   3Current Epoch:   3Current Epoch:   3Current Epoch:   3Current Epoch:   3Current Epoch:   3 | Loss: 1670.48 | Accuracy: 66.60 | Test Accuracy: 65.82\n",
            "Current Epoch:   4Current Epoch:   4Current Epoch:   4Current Epoch:   4Current Epoch:   4Current Epoch:   4Current Epoch:   4Current Epoch:   4Current Epoch:   4Current Epoch:   4Current Epoch:   4Current Epoch:   4Current Epoch:   4Current Epoch:   4Current Epoch:   4Current Epoch:   4Current Epoch:   4Current Epoch:   4Current Epoch:   4Current Epoch:   4Current Epoch:   4Current Epoch:   4Current Epoch:   4Current Epoch:   4Current Epoch:   4Current Epoch:   4Current Epoch:   4Current Epoch:   4Current Epoch:   4Current Epoch:   4Current Epoch:   4Current Epoch:   4Current Epoch:   4Current Epoch:   4Current Epoch:   4Current Epoch:   4Current Epoch:   4Current Epoch:   4Current Epoch:   4Current Epoch:   4Current Epoch:   4Current Epoch:   4Current Epoch:   4Current Epoch:   4Current Epoch:   4Current Epoch:   4Current Epoch:   4Current Epoch:   4Current Epoch:   4Current Epoch:   4Current Epoch:   4Current Epoch:   4Current Epoch:   4Current Epoch:   4Current Epoch:   4Current Epoch:   4Current Epoch:   4Current Epoch:   4Current Epoch:   4Current Epoch:   4Current Epoch:   4Current Epoch:   4Current Epoch:   4Current Epoch:   4Current Epoch:   4Current Epoch:   4Current Epoch:   4Current Epoch:   4Current Epoch:   4Current Epoch:   4Current Epoch:   4Current Epoch:   4Current Epoch:   4Current Epoch:   4Current Epoch:   4Current Epoch:   4Current Epoch:   4Current Epoch:   4Current Epoch:   4Current Epoch:   4Current Epoch:   4Current Epoch:   4Current Epoch:   4Current Epoch:   4Current Epoch:   4Current Epoch:   4Current Epoch:   4Current Epoch:   4Current Epoch:   4Current Epoch:   4Current Epoch:   4Current Epoch:   4Current Epoch:   4Current Epoch:   4Current Epoch:   4Current Epoch:   4Current Epoch:   4Current Epoch:   4Current Epoch:   4Current Epoch:   4Current Epoch:   4Current Epoch:   4Current Epoch:   4Current Epoch:   4Current Epoch:   4Current Epoch:   4Current Epoch:   4Current Epoch:   4Current Epoch:   4Current Epoch:   4Current Epoch:   4Current Epoch:   4Current Epoch:   4Current Epoch:   4Current Epoch:   4Current Epoch:   4Current Epoch:   4Current Epoch:   4Current Epoch:   4Current Epoch:   4Current Epoch:   4Current Epoch:   4Current Epoch:   4Current Epoch:   4Current Epoch:   4Current Epoch:   4Current Epoch:   4Current Epoch:   4Current Epoch:   4Current Epoch:   4Current Epoch:   4Current Epoch:   4Current Epoch:   4Current Epoch:   4Current Epoch:   4Current Epoch:   4Current Epoch:   4Current Epoch:   4Current Epoch:   4Current Epoch:   4Current Epoch:   4Current Epoch:   4Current Epoch:   4Current Epoch:   4Current Epoch:   4Current Epoch:   4Current Epoch:   4Current Epoch:   4Current Epoch:   4Current Epoch:   4Current Epoch:   4Current Epoch:   4Current Epoch:   4Current Epoch:   4Current Epoch:   4Current Epoch:   4Current Epoch:   4Current Epoch:   4Current Epoch:   4Current Epoch:   4Current Epoch:   4Current Epoch:   4Current Epoch:   4Current Epoch:   4Current Epoch:   4Current Epoch:   4Current Epoch:   4Current Epoch:   4Current Epoch:   4Current Epoch:   4Current Epoch:   4Current Epoch:   4Current Epoch:   4Current Epoch:   4Current Epoch:   4Current Epoch:   4Current Epoch:   4Current Epoch:   4Current Epoch:   4Current Epoch:   4Current Epoch:   4Current Epoch:   4Current Epoch:   4Current Epoch:   4Current Epoch:   4Current Epoch:   4Current Epoch:   4Current Epoch:   4Current Epoch:   4Current Epoch:   4Current Epoch:   4Current Epoch:   4Current Epoch:   4Current Epoch:   4Current Epoch:   4Current Epoch:   4Current Epoch:   4Current Epoch:   4Current Epoch:   4Current Epoch:   4Current Epoch:   4Current Epoch:   4Current Epoch:   4Current Epoch:   4Current Epoch:   4Current Epoch:   4Current Epoch:   4Current Epoch:   4Current Epoch:   4Current Epoch:   4Current Epoch:   4Current Epoch:   4Current Epoch:   4Current Epoch:   4Current Epoch:   4Current Epoch:   4Current Epoch:   4Current Epoch:   4Current Epoch:   4Current Epoch:   4Current Epoch:   4Current Epoch:   4Current Epoch:   4Current Epoch:   4Current Epoch:   4Current Epoch:   4Current Epoch:   4Current Epoch:   4Current Epoch:   4Current Epoch:   4Current Epoch:   4Current Epoch:   4Current Epoch:   4Current Epoch:   4Current Epoch:   4Current Epoch:   4Current Epoch:   4Current Epoch:   4Current Epoch:   4Current Epoch:   4Current Epoch:   4Current Epoch:   4Current Epoch:   4Current Epoch:   4Current Epoch:   4Current Epoch:   4Current Epoch:   4Current Epoch:   4Current Epoch:   4Current Epoch:   4Current Epoch:   4Current Epoch:   4Current Epoch:   4Current Epoch:   4Current Epoch:   4Current Epoch:   4Current Epoch:   4Current Epoch:   4Current Epoch:   4Current Epoch:   4Current Epoch:   4Current Epoch:   4Current Epoch:   4Current Epoch:   4Current Epoch:   4Current Epoch:   4Current Epoch:   4Current Epoch:   4Current Epoch:   4Current Epoch:   4Current Epoch:   4Current Epoch:   4Current Epoch:   4Current Epoch:   4Current Epoch:   4Current Epoch:   4Current Epoch:   4Current Epoch:   4Current Epoch:   4Current Epoch:   4Current Epoch:   4Current Epoch:   4Current Epoch:   4Current Epoch:   4Current Epoch:   4Current Epoch:   4Current Epoch:   4Current Epoch:   4Current Epoch:   4Current Epoch:   4Current Epoch:   4Current Epoch:   4Current Epoch:   4Current Epoch:   4Current Epoch:   4Current Epoch:   4Current Epoch:   4Current Epoch:   4Current Epoch:   4Current Epoch:   4Current Epoch:   4Current Epoch:   4Current Epoch:   4Current Epoch:   4Current Epoch:   4Current Epoch:   4Current Epoch:   4Current Epoch:   4Current Epoch:   4Current Epoch:   4Current Epoch:   4Current Epoch:   4Current Epoch:   4 | Loss: 1535.88 | Accuracy: 68.87 | Test Accuracy: 67.95\n",
            "Current Epoch:   5Current Epoch:   5Current Epoch:   5Current Epoch:   5Current Epoch:   5Current Epoch:   5Current Epoch:   5Current Epoch:   5Current Epoch:   5Current Epoch:   5Current Epoch:   5Current Epoch:   5Current Epoch:   5Current Epoch:   5Current Epoch:   5Current Epoch:   5Current Epoch:   5Current Epoch:   5Current Epoch:   5Current Epoch:   5Current Epoch:   5Current Epoch:   5Current Epoch:   5Current Epoch:   5Current Epoch:   5Current Epoch:   5Current Epoch:   5Current Epoch:   5Current Epoch:   5Current Epoch:   5Current Epoch:   5Current Epoch:   5Current Epoch:   5Current Epoch:   5Current Epoch:   5Current Epoch:   5Current Epoch:   5Current Epoch:   5Current Epoch:   5Current Epoch:   5Current Epoch:   5Current Epoch:   5Current Epoch:   5Current Epoch:   5Current Epoch:   5Current Epoch:   5Current Epoch:   5Current Epoch:   5Current Epoch:   5Current Epoch:   5Current Epoch:   5Current Epoch:   5Current Epoch:   5Current Epoch:   5Current Epoch:   5Current Epoch:   5Current Epoch:   5Current Epoch:   5Current Epoch:   5Current Epoch:   5Current Epoch:   5Current Epoch:   5Current Epoch:   5Current Epoch:   5Current Epoch:   5Current Epoch:   5Current Epoch:   5Current Epoch:   5Current Epoch:   5Current Epoch:   5Current Epoch:   5Current Epoch:   5Current Epoch:   5Current Epoch:   5Current Epoch:   5Current Epoch:   5Current Epoch:   5Current Epoch:   5Current Epoch:   5Current Epoch:   5Current Epoch:   5Current Epoch:   5Current Epoch:   5Current Epoch:   5Current Epoch:   5Current Epoch:   5Current Epoch:   5Current Epoch:   5Current Epoch:   5Current Epoch:   5Current Epoch:   5Current Epoch:   5Current Epoch:   5Current Epoch:   5Current Epoch:   5Current Epoch:   5Current Epoch:   5Current Epoch:   5Current Epoch:   5Current Epoch:   5Current Epoch:   5Current Epoch:   5Current Epoch:   5Current Epoch:   5Current Epoch:   5Current Epoch:   5Current Epoch:   5Current Epoch:   5Current Epoch:   5Current Epoch:   5Current Epoch:   5Current Epoch:   5Current Epoch:   5Current Epoch:   5Current Epoch:   5Current Epoch:   5Current Epoch:   5Current Epoch:   5Current Epoch:   5Current Epoch:   5Current Epoch:   5Current Epoch:   5Current Epoch:   5Current Epoch:   5Current Epoch:   5Current Epoch:   5Current Epoch:   5Current Epoch:   5Current Epoch:   5Current Epoch:   5Current Epoch:   5Current Epoch:   5Current Epoch:   5Current Epoch:   5Current Epoch:   5Current Epoch:   5Current Epoch:   5Current Epoch:   5Current Epoch:   5Current Epoch:   5Current Epoch:   5Current Epoch:   5Current Epoch:   5Current Epoch:   5Current Epoch:   5Current Epoch:   5Current Epoch:   5Current Epoch:   5Current Epoch:   5Current Epoch:   5Current Epoch:   5Current Epoch:   5Current Epoch:   5Current Epoch:   5Current Epoch:   5Current Epoch:   5Current Epoch:   5Current Epoch:   5Current Epoch:   5Current Epoch:   5Current Epoch:   5Current Epoch:   5Current Epoch:   5Current Epoch:   5Current Epoch:   5Current Epoch:   5Current Epoch:   5Current Epoch:   5Current Epoch:   5Current Epoch:   5Current Epoch:   5Current Epoch:   5Current Epoch:   5Current Epoch:   5Current Epoch:   5Current Epoch:   5Current Epoch:   5Current Epoch:   5Current Epoch:   5Current Epoch:   5Current Epoch:   5Current Epoch:   5Current Epoch:   5Current Epoch:   5Current Epoch:   5Current Epoch:   5Current Epoch:   5Current Epoch:   5Current Epoch:   5Current Epoch:   5Current Epoch:   5Current Epoch:   5Current Epoch:   5Current Epoch:   5Current Epoch:   5Current Epoch:   5Current Epoch:   5Current Epoch:   5Current Epoch:   5Current Epoch:   5Current Epoch:   5Current Epoch:   5Current Epoch:   5Current Epoch:   5Current Epoch:   5Current Epoch:   5Current Epoch:   5Current Epoch:   5Current Epoch:   5Current Epoch:   5Current Epoch:   5Current Epoch:   5Current Epoch:   5Current Epoch:   5Current Epoch:   5Current Epoch:   5Current Epoch:   5Current Epoch:   5Current Epoch:   5Current Epoch:   5Current Epoch:   5Current Epoch:   5Current Epoch:   5Current Epoch:   5Current Epoch:   5Current Epoch:   5Current Epoch:   5Current Epoch:   5Current Epoch:   5Current Epoch:   5Current Epoch:   5Current Epoch:   5Current Epoch:   5Current Epoch:   5Current Epoch:   5Current Epoch:   5Current Epoch:   5Current Epoch:   5Current Epoch:   5Current Epoch:   5Current Epoch:   5Current Epoch:   5Current Epoch:   5Current Epoch:   5Current Epoch:   5Current Epoch:   5Current Epoch:   5Current Epoch:   5Current Epoch:   5Current Epoch:   5Current Epoch:   5Current Epoch:   5Current Epoch:   5Current Epoch:   5Current Epoch:   5Current Epoch:   5Current Epoch:   5Current Epoch:   5Current Epoch:   5Current Epoch:   5Current Epoch:   5Current Epoch:   5Current Epoch:   5Current Epoch:   5Current Epoch:   5Current Epoch:   5Current Epoch:   5Current Epoch:   5Current Epoch:   5Current Epoch:   5Current Epoch:   5Current Epoch:   5Current Epoch:   5Current Epoch:   5Current Epoch:   5Current Epoch:   5Current Epoch:   5Current Epoch:   5Current Epoch:   5Current Epoch:   5Current Epoch:   5Current Epoch:   5Current Epoch:   5Current Epoch:   5Current Epoch:   5Current Epoch:   5Current Epoch:   5Current Epoch:   5Current Epoch:   5Current Epoch:   5Current Epoch:   5Current Epoch:   5Current Epoch:   5Current Epoch:   5Current Epoch:   5Current Epoch:   5Current Epoch:   5Current Epoch:   5Current Epoch:   5Current Epoch:   5Current Epoch:   5Current Epoch:   5Current Epoch:   5Current Epoch:   5Current Epoch:   5Current Epoch:   5Current Epoch:   5Current Epoch:   5Current Epoch:   5Current Epoch:   5Current Epoch:   5Current Epoch:   5Current Epoch:   5 | Loss: 1441.03 | Accuracy: 70.85 | Test Accuracy: 70.35\n",
            "Current Epoch:   6Current Epoch:   6Current Epoch:   6Current Epoch:   6Current Epoch:   6Current Epoch:   6Current Epoch:   6Current Epoch:   6Current Epoch:   6Current Epoch:   6Current Epoch:   6Current Epoch:   6Current Epoch:   6Current Epoch:   6Current Epoch:   6Current Epoch:   6Current Epoch:   6Current Epoch:   6Current Epoch:   6Current Epoch:   6Current Epoch:   6Current Epoch:   6Current Epoch:   6Current Epoch:   6Current Epoch:   6Current Epoch:   6Current Epoch:   6Current Epoch:   6Current Epoch:   6Current Epoch:   6Current Epoch:   6Current Epoch:   6Current Epoch:   6Current Epoch:   6Current Epoch:   6Current Epoch:   6Current Epoch:   6Current Epoch:   6Current Epoch:   6Current Epoch:   6Current Epoch:   6Current Epoch:   6Current Epoch:   6Current Epoch:   6Current Epoch:   6Current Epoch:   6Current Epoch:   6Current Epoch:   6Current Epoch:   6Current Epoch:   6Current Epoch:   6Current Epoch:   6Current Epoch:   6Current Epoch:   6Current Epoch:   6Current Epoch:   6Current Epoch:   6Current Epoch:   6Current Epoch:   6Current Epoch:   6Current Epoch:   6Current Epoch:   6Current Epoch:   6Current Epoch:   6Current Epoch:   6Current Epoch:   6Current Epoch:   6Current Epoch:   6Current Epoch:   6Current Epoch:   6Current Epoch:   6Current Epoch:   6Current Epoch:   6Current Epoch:   6Current Epoch:   6Current Epoch:   6Current Epoch:   6Current Epoch:   6Current Epoch:   6Current Epoch:   6Current Epoch:   6Current Epoch:   6Current Epoch:   6Current Epoch:   6Current Epoch:   6Current Epoch:   6Current Epoch:   6Current Epoch:   6Current Epoch:   6Current Epoch:   6Current Epoch:   6Current Epoch:   6Current Epoch:   6Current Epoch:   6Current Epoch:   6Current Epoch:   6Current Epoch:   6Current Epoch:   6Current Epoch:   6Current Epoch:   6Current Epoch:   6Current Epoch:   6Current Epoch:   6Current Epoch:   6Current Epoch:   6Current Epoch:   6Current Epoch:   6Current Epoch:   6Current Epoch:   6Current Epoch:   6Current Epoch:   6Current Epoch:   6Current Epoch:   6Current Epoch:   6Current Epoch:   6Current Epoch:   6Current Epoch:   6Current Epoch:   6Current Epoch:   6Current Epoch:   6Current Epoch:   6Current Epoch:   6Current Epoch:   6Current Epoch:   6Current Epoch:   6Current Epoch:   6Current Epoch:   6Current Epoch:   6Current Epoch:   6Current Epoch:   6Current Epoch:   6Current Epoch:   6Current Epoch:   6Current Epoch:   6Current Epoch:   6Current Epoch:   6Current Epoch:   6Current Epoch:   6Current Epoch:   6Current Epoch:   6Current Epoch:   6Current Epoch:   6Current Epoch:   6Current Epoch:   6Current Epoch:   6Current Epoch:   6Current Epoch:   6Current Epoch:   6Current Epoch:   6Current Epoch:   6Current Epoch:   6Current Epoch:   6Current Epoch:   6Current Epoch:   6Current Epoch:   6Current Epoch:   6Current Epoch:   6Current Epoch:   6Current Epoch:   6Current Epoch:   6Current Epoch:   6Current Epoch:   6Current Epoch:   6Current Epoch:   6Current Epoch:   6Current Epoch:   6Current Epoch:   6Current Epoch:   6Current Epoch:   6Current Epoch:   6Current Epoch:   6Current Epoch:   6Current Epoch:   6Current Epoch:   6Current Epoch:   6Current Epoch:   6Current Epoch:   6Current Epoch:   6Current Epoch:   6Current Epoch:   6Current Epoch:   6Current Epoch:   6Current Epoch:   6Current Epoch:   6Current Epoch:   6Current Epoch:   6Current Epoch:   6Current Epoch:   6Current Epoch:   6Current Epoch:   6Current Epoch:   6Current Epoch:   6Current Epoch:   6Current Epoch:   6Current Epoch:   6Current Epoch:   6Current Epoch:   6Current Epoch:   6Current Epoch:   6Current Epoch:   6Current Epoch:   6Current Epoch:   6Current Epoch:   6Current Epoch:   6Current Epoch:   6Current Epoch:   6Current Epoch:   6Current Epoch:   6Current Epoch:   6Current Epoch:   6Current Epoch:   6Current Epoch:   6Current Epoch:   6Current Epoch:   6Current Epoch:   6Current Epoch:   6Current Epoch:   6Current Epoch:   6Current Epoch:   6Current Epoch:   6Current Epoch:   6Current Epoch:   6Current Epoch:   6Current Epoch:   6Current Epoch:   6Current Epoch:   6Current Epoch:   6Current Epoch:   6Current Epoch:   6Current Epoch:   6Current Epoch:   6Current Epoch:   6Current Epoch:   6Current Epoch:   6Current Epoch:   6Current Epoch:   6Current Epoch:   6Current Epoch:   6Current Epoch:   6Current Epoch:   6Current Epoch:   6Current Epoch:   6Current Epoch:   6Current Epoch:   6Current Epoch:   6Current Epoch:   6Current Epoch:   6Current Epoch:   6Current Epoch:   6Current Epoch:   6Current Epoch:   6Current Epoch:   6Current Epoch:   6Current Epoch:   6Current Epoch:   6Current Epoch:   6Current Epoch:   6Current Epoch:   6Current Epoch:   6Current Epoch:   6Current Epoch:   6Current Epoch:   6Current Epoch:   6Current Epoch:   6Current Epoch:   6Current Epoch:   6Current Epoch:   6Current Epoch:   6Current Epoch:   6Current Epoch:   6Current Epoch:   6Current Epoch:   6Current Epoch:   6Current Epoch:   6Current Epoch:   6Current Epoch:   6Current Epoch:   6Current Epoch:   6Current Epoch:   6Current Epoch:   6Current Epoch:   6Current Epoch:   6Current Epoch:   6Current Epoch:   6Current Epoch:   6Current Epoch:   6Current Epoch:   6Current Epoch:   6Current Epoch:   6Current Epoch:   6Current Epoch:   6Current Epoch:   6Current Epoch:   6Current Epoch:   6Current Epoch:   6Current Epoch:   6Current Epoch:   6Current Epoch:   6Current Epoch:   6Current Epoch:   6Current Epoch:   6Current Epoch:   6Current Epoch:   6Current Epoch:   6Current Epoch:   6Current Epoch:   6Current Epoch:   6Current Epoch:   6Current Epoch:   6Current Epoch:   6Current Epoch:   6Current Epoch:   6Current Epoch:   6 | Loss: 1367.70 | Accuracy: 72.96 | Test Accuracy: 72.56\n",
            "Current Epoch:   7Current Epoch:   7Current Epoch:   7Current Epoch:   7Current Epoch:   7Current Epoch:   7Current Epoch:   7Current Epoch:   7Current Epoch:   7Current Epoch:   7Current Epoch:   7Current Epoch:   7Current Epoch:   7Current Epoch:   7Current Epoch:   7Current Epoch:   7Current Epoch:   7Current Epoch:   7Current Epoch:   7Current Epoch:   7Current Epoch:   7Current Epoch:   7Current Epoch:   7Current Epoch:   7Current Epoch:   7Current Epoch:   7Current Epoch:   7Current Epoch:   7Current Epoch:   7Current Epoch:   7Current Epoch:   7Current Epoch:   7Current Epoch:   7Current Epoch:   7Current Epoch:   7Current Epoch:   7Current Epoch:   7Current Epoch:   7Current Epoch:   7Current Epoch:   7Current Epoch:   7Current Epoch:   7Current Epoch:   7Current Epoch:   7Current Epoch:   7Current Epoch:   7Current Epoch:   7Current Epoch:   7Current Epoch:   7Current Epoch:   7Current Epoch:   7Current Epoch:   7Current Epoch:   7Current Epoch:   7Current Epoch:   7Current Epoch:   7Current Epoch:   7Current Epoch:   7Current Epoch:   7Current Epoch:   7Current Epoch:   7Current Epoch:   7Current Epoch:   7Current Epoch:   7Current Epoch:   7Current Epoch:   7Current Epoch:   7Current Epoch:   7Current Epoch:   7Current Epoch:   7Current Epoch:   7Current Epoch:   7Current Epoch:   7Current Epoch:   7Current Epoch:   7Current Epoch:   7Current Epoch:   7Current Epoch:   7Current Epoch:   7Current Epoch:   7Current Epoch:   7Current Epoch:   7Current Epoch:   7Current Epoch:   7Current Epoch:   7Current Epoch:   7Current Epoch:   7Current Epoch:   7Current Epoch:   7Current Epoch:   7Current Epoch:   7Current Epoch:   7Current Epoch:   7Current Epoch:   7Current Epoch:   7Current Epoch:   7Current Epoch:   7Current Epoch:   7Current Epoch:   7Current Epoch:   7Current Epoch:   7Current Epoch:   7Current Epoch:   7Current Epoch:   7Current Epoch:   7Current Epoch:   7Current Epoch:   7Current Epoch:   7Current Epoch:   7Current Epoch:   7Current Epoch:   7Current Epoch:   7Current Epoch:   7Current Epoch:   7Current Epoch:   7Current Epoch:   7Current Epoch:   7Current Epoch:   7Current Epoch:   7Current Epoch:   7Current Epoch:   7Current Epoch:   7Current Epoch:   7Current Epoch:   7Current Epoch:   7Current Epoch:   7Current Epoch:   7Current Epoch:   7Current Epoch:   7Current Epoch:   7Current Epoch:   7Current Epoch:   7Current Epoch:   7Current Epoch:   7Current Epoch:   7Current Epoch:   7Current Epoch:   7Current Epoch:   7Current Epoch:   7Current Epoch:   7Current Epoch:   7Current Epoch:   7Current Epoch:   7Current Epoch:   7Current Epoch:   7Current Epoch:   7Current Epoch:   7Current Epoch:   7Current Epoch:   7Current Epoch:   7Current Epoch:   7Current Epoch:   7Current Epoch:   7Current Epoch:   7Current Epoch:   7Current Epoch:   7Current Epoch:   7Current Epoch:   7Current Epoch:   7Current Epoch:   7Current Epoch:   7Current Epoch:   7Current Epoch:   7Current Epoch:   7Current Epoch:   7Current Epoch:   7Current Epoch:   7Current Epoch:   7Current Epoch:   7Current Epoch:   7Current Epoch:   7Current Epoch:   7Current Epoch:   7Current Epoch:   7Current Epoch:   7Current Epoch:   7Current Epoch:   7Current Epoch:   7Current Epoch:   7Current Epoch:   7Current Epoch:   7Current Epoch:   7Current Epoch:   7Current Epoch:   7Current Epoch:   7Current Epoch:   7Current Epoch:   7Current Epoch:   7Current Epoch:   7Current Epoch:   7Current Epoch:   7Current Epoch:   7Current Epoch:   7Current Epoch:   7Current Epoch:   7Current Epoch:   7Current Epoch:   7Current Epoch:   7Current Epoch:   7Current Epoch:   7Current Epoch:   7Current Epoch:   7Current Epoch:   7Current Epoch:   7Current Epoch:   7Current Epoch:   7Current Epoch:   7Current Epoch:   7Current Epoch:   7Current Epoch:   7Current Epoch:   7Current Epoch:   7Current Epoch:   7Current Epoch:   7Current Epoch:   7Current Epoch:   7Current Epoch:   7Current Epoch:   7Current Epoch:   7Current Epoch:   7Current Epoch:   7Current Epoch:   7Current Epoch:   7Current Epoch:   7Current Epoch:   7Current Epoch:   7Current Epoch:   7Current Epoch:   7Current Epoch:   7Current Epoch:   7Current Epoch:   7Current Epoch:   7Current Epoch:   7Current Epoch:   7Current Epoch:   7Current Epoch:   7Current Epoch:   7Current Epoch:   7Current Epoch:   7Current Epoch:   7Current Epoch:   7Current Epoch:   7Current Epoch:   7Current Epoch:   7Current Epoch:   7Current Epoch:   7Current Epoch:   7Current Epoch:   7Current Epoch:   7Current Epoch:   7Current Epoch:   7Current Epoch:   7Current Epoch:   7Current Epoch:   7Current Epoch:   7Current Epoch:   7Current Epoch:   7Current Epoch:   7Current Epoch:   7Current Epoch:   7Current Epoch:   7Current Epoch:   7Current Epoch:   7Current Epoch:   7Current Epoch:   7Current Epoch:   7Current Epoch:   7Current Epoch:   7Current Epoch:   7Current Epoch:   7Current Epoch:   7Current Epoch:   7Current Epoch:   7Current Epoch:   7Current Epoch:   7Current Epoch:   7Current Epoch:   7Current Epoch:   7Current Epoch:   7Current Epoch:   7Current Epoch:   7Current Epoch:   7Current Epoch:   7Current Epoch:   7Current Epoch:   7Current Epoch:   7Current Epoch:   7Current Epoch:   7Current Epoch:   7Current Epoch:   7Current Epoch:   7Current Epoch:   7Current Epoch:   7Current Epoch:   7Current Epoch:   7Current Epoch:   7Current Epoch:   7Current Epoch:   7Current Epoch:   7Current Epoch:   7Current Epoch:   7Current Epoch:   7Current Epoch:   7Current Epoch:   7Current Epoch:   7Current Epoch:   7Current Epoch:   7Current Epoch:   7Current Epoch:   7Current Epoch:   7Current Epoch:   7Current Epoch:   7Current Epoch:   7 | Loss: 1306.49 | Accuracy: 74.99 | Test Accuracy: 74.54\n",
            "Current Epoch:   8Current Epoch:   8Current Epoch:   8Current Epoch:   8Current Epoch:   8Current Epoch:   8Current Epoch:   8Current Epoch:   8Current Epoch:   8Current Epoch:   8Current Epoch:   8Current Epoch:   8Current Epoch:   8Current Epoch:   8Current Epoch:   8Current Epoch:   8Current Epoch:   8Current Epoch:   8Current Epoch:   8Current Epoch:   8Current Epoch:   8Current Epoch:   8Current Epoch:   8Current Epoch:   8Current Epoch:   8Current Epoch:   8Current Epoch:   8Current Epoch:   8Current Epoch:   8Current Epoch:   8Current Epoch:   8Current Epoch:   8Current Epoch:   8Current Epoch:   8Current Epoch:   8Current Epoch:   8Current Epoch:   8Current Epoch:   8Current Epoch:   8Current Epoch:   8Current Epoch:   8Current Epoch:   8Current Epoch:   8Current Epoch:   8Current Epoch:   8Current Epoch:   8Current Epoch:   8Current Epoch:   8Current Epoch:   8Current Epoch:   8Current Epoch:   8Current Epoch:   8Current Epoch:   8Current Epoch:   8Current Epoch:   8Current Epoch:   8Current Epoch:   8Current Epoch:   8Current Epoch:   8Current Epoch:   8Current Epoch:   8Current Epoch:   8Current Epoch:   8Current Epoch:   8Current Epoch:   8Current Epoch:   8Current Epoch:   8Current Epoch:   8Current Epoch:   8Current Epoch:   8Current Epoch:   8Current Epoch:   8Current Epoch:   8Current Epoch:   8Current Epoch:   8Current Epoch:   8Current Epoch:   8Current Epoch:   8Current Epoch:   8Current Epoch:   8Current Epoch:   8Current Epoch:   8Current Epoch:   8Current Epoch:   8Current Epoch:   8Current Epoch:   8Current Epoch:   8Current Epoch:   8Current Epoch:   8Current Epoch:   8Current Epoch:   8Current Epoch:   8Current Epoch:   8Current Epoch:   8Current Epoch:   8Current Epoch:   8Current Epoch:   8Current Epoch:   8Current Epoch:   8Current Epoch:   8Current Epoch:   8Current Epoch:   8Current Epoch:   8Current Epoch:   8Current Epoch:   8Current Epoch:   8Current Epoch:   8Current Epoch:   8Current Epoch:   8Current Epoch:   8Current Epoch:   8Current Epoch:   8Current Epoch:   8Current Epoch:   8Current Epoch:   8Current Epoch:   8Current Epoch:   8Current Epoch:   8Current Epoch:   8Current Epoch:   8Current Epoch:   8Current Epoch:   8Current Epoch:   8Current Epoch:   8Current Epoch:   8Current Epoch:   8Current Epoch:   8Current Epoch:   8Current Epoch:   8Current Epoch:   8Current Epoch:   8Current Epoch:   8Current Epoch:   8Current Epoch:   8Current Epoch:   8Current Epoch:   8Current Epoch:   8Current Epoch:   8Current Epoch:   8Current Epoch:   8Current Epoch:   8Current Epoch:   8Current Epoch:   8Current Epoch:   8Current Epoch:   8Current Epoch:   8Current Epoch:   8Current Epoch:   8Current Epoch:   8Current Epoch:   8Current Epoch:   8Current Epoch:   8Current Epoch:   8Current Epoch:   8Current Epoch:   8Current Epoch:   8Current Epoch:   8Current Epoch:   8Current Epoch:   8Current Epoch:   8Current Epoch:   8Current Epoch:   8Current Epoch:   8Current Epoch:   8Current Epoch:   8Current Epoch:   8Current Epoch:   8Current Epoch:   8Current Epoch:   8Current Epoch:   8Current Epoch:   8Current Epoch:   8Current Epoch:   8Current Epoch:   8Current Epoch:   8Current Epoch:   8Current Epoch:   8Current Epoch:   8Current Epoch:   8Current Epoch:   8Current Epoch:   8Current Epoch:   8Current Epoch:   8Current Epoch:   8Current Epoch:   8Current Epoch:   8Current Epoch:   8Current Epoch:   8Current Epoch:   8Current Epoch:   8Current Epoch:   8Current Epoch:   8Current Epoch:   8Current Epoch:   8Current Epoch:   8Current Epoch:   8Current Epoch:   8Current Epoch:   8Current Epoch:   8Current Epoch:   8Current Epoch:   8Current Epoch:   8Current Epoch:   8Current Epoch:   8Current Epoch:   8Current Epoch:   8Current Epoch:   8Current Epoch:   8Current Epoch:   8Current Epoch:   8Current Epoch:   8Current Epoch:   8Current Epoch:   8Current Epoch:   8Current Epoch:   8Current Epoch:   8Current Epoch:   8Current Epoch:   8Current Epoch:   8Current Epoch:   8Current Epoch:   8Current Epoch:   8Current Epoch:   8Current Epoch:   8Current Epoch:   8Current Epoch:   8Current Epoch:   8Current Epoch:   8Current Epoch:   8Current Epoch:   8Current Epoch:   8Current Epoch:   8Current Epoch:   8Current Epoch:   8Current Epoch:   8Current Epoch:   8Current Epoch:   8Current Epoch:   8Current Epoch:   8Current Epoch:   8Current Epoch:   8Current Epoch:   8Current Epoch:   8Current Epoch:   8Current Epoch:   8Current Epoch:   8Current Epoch:   8Current Epoch:   8Current Epoch:   8Current Epoch:   8Current Epoch:   8Current Epoch:   8Current Epoch:   8Current Epoch:   8Current Epoch:   8Current Epoch:   8Current Epoch:   8Current Epoch:   8Current Epoch:   8Current Epoch:   8Current Epoch:   8Current Epoch:   8Current Epoch:   8Current Epoch:   8Current Epoch:   8Current Epoch:   8Current Epoch:   8Current Epoch:   8Current Epoch:   8Current Epoch:   8Current Epoch:   8Current Epoch:   8Current Epoch:   8Current Epoch:   8Current Epoch:   8Current Epoch:   8Current Epoch:   8Current Epoch:   8Current Epoch:   8Current Epoch:   8Current Epoch:   8Current Epoch:   8Current Epoch:   8Current Epoch:   8Current Epoch:   8Current Epoch:   8Current Epoch:   8Current Epoch:   8Current Epoch:   8Current Epoch:   8Current Epoch:   8Current Epoch:   8Current Epoch:   8Current Epoch:   8Current Epoch:   8Current Epoch:   8Current Epoch:   8Current Epoch:   8Current Epoch:   8Current Epoch:   8Current Epoch:   8Current Epoch:   8Current Epoch:   8Current Epoch:   8Current Epoch:   8Current Epoch:   8Current Epoch:   8Current Epoch:   8Current Epoch:   8Current Epoch:   8Current Epoch:   8Current Epoch:   8Current Epoch:   8 | Loss: 1253.20 | Accuracy: 76.65 | Test Accuracy: 76.15\n",
            "Current Epoch:   9Current Epoch:   9Current Epoch:   9Current Epoch:   9Current Epoch:   9Current Epoch:   9Current Epoch:   9Current Epoch:   9Current Epoch:   9Current Epoch:   9Current Epoch:   9Current Epoch:   9Current Epoch:   9Current Epoch:   9Current Epoch:   9Current Epoch:   9Current Epoch:   9Current Epoch:   9Current Epoch:   9Current Epoch:   9Current Epoch:   9Current Epoch:   9Current Epoch:   9Current Epoch:   9Current Epoch:   9Current Epoch:   9Current Epoch:   9Current Epoch:   9Current Epoch:   9Current Epoch:   9Current Epoch:   9Current Epoch:   9Current Epoch:   9Current Epoch:   9Current Epoch:   9Current Epoch:   9Current Epoch:   9Current Epoch:   9Current Epoch:   9Current Epoch:   9Current Epoch:   9Current Epoch:   9Current Epoch:   9Current Epoch:   9Current Epoch:   9Current Epoch:   9Current Epoch:   9Current Epoch:   9Current Epoch:   9Current Epoch:   9Current Epoch:   9Current Epoch:   9Current Epoch:   9Current Epoch:   9Current Epoch:   9Current Epoch:   9Current Epoch:   9Current Epoch:   9Current Epoch:   9Current Epoch:   9Current Epoch:   9Current Epoch:   9Current Epoch:   9Current Epoch:   9Current Epoch:   9Current Epoch:   9Current Epoch:   9Current Epoch:   9Current Epoch:   9Current Epoch:   9Current Epoch:   9Current Epoch:   9Current Epoch:   9Current Epoch:   9Current Epoch:   9Current Epoch:   9Current Epoch:   9Current Epoch:   9Current Epoch:   9Current Epoch:   9Current Epoch:   9Current Epoch:   9Current Epoch:   9Current Epoch:   9Current Epoch:   9Current Epoch:   9Current Epoch:   9Current Epoch:   9Current Epoch:   9Current Epoch:   9Current Epoch:   9Current Epoch:   9Current Epoch:   9Current Epoch:   9Current Epoch:   9Current Epoch:   9Current Epoch:   9Current Epoch:   9Current Epoch:   9Current Epoch:   9Current Epoch:   9Current Epoch:   9Current Epoch:   9Current Epoch:   9Current Epoch:   9Current Epoch:   9Current Epoch:   9Current Epoch:   9Current Epoch:   9Current Epoch:   9Current Epoch:   9Current Epoch:   9Current Epoch:   9Current Epoch:   9Current Epoch:   9Current Epoch:   9Current Epoch:   9Current Epoch:   9Current Epoch:   9Current Epoch:   9Current Epoch:   9Current Epoch:   9Current Epoch:   9Current Epoch:   9Current Epoch:   9Current Epoch:   9Current Epoch:   9Current Epoch:   9Current Epoch:   9Current Epoch:   9Current Epoch:   9Current Epoch:   9Current Epoch:   9Current Epoch:   9Current Epoch:   9Current Epoch:   9Current Epoch:   9Current Epoch:   9Current Epoch:   9Current Epoch:   9Current Epoch:   9Current Epoch:   9Current Epoch:   9Current Epoch:   9Current Epoch:   9Current Epoch:   9Current Epoch:   9Current Epoch:   9Current Epoch:   9Current Epoch:   9Current Epoch:   9Current Epoch:   9Current Epoch:   9Current Epoch:   9Current Epoch:   9Current Epoch:   9Current Epoch:   9Current Epoch:   9Current Epoch:   9Current Epoch:   9Current Epoch:   9Current Epoch:   9Current Epoch:   9Current Epoch:   9Current Epoch:   9Current Epoch:   9Current Epoch:   9Current Epoch:   9Current Epoch:   9Current Epoch:   9Current Epoch:   9Current Epoch:   9Current Epoch:   9Current Epoch:   9Current Epoch:   9Current Epoch:   9Current Epoch:   9Current Epoch:   9Current Epoch:   9Current Epoch:   9Current Epoch:   9Current Epoch:   9Current Epoch:   9Current Epoch:   9Current Epoch:   9Current Epoch:   9Current Epoch:   9Current Epoch:   9Current Epoch:   9Current Epoch:   9Current Epoch:   9Current Epoch:   9Current Epoch:   9Current Epoch:   9Current Epoch:   9Current Epoch:   9Current Epoch:   9Current Epoch:   9Current Epoch:   9Current Epoch:   9Current Epoch:   9Current Epoch:   9Current Epoch:   9Current Epoch:   9Current Epoch:   9Current Epoch:   9Current Epoch:   9Current Epoch:   9Current Epoch:   9Current Epoch:   9Current Epoch:   9Current Epoch:   9Current Epoch:   9Current Epoch:   9Current Epoch:   9Current Epoch:   9Current Epoch:   9Current Epoch:   9Current Epoch:   9Current Epoch:   9Current Epoch:   9Current Epoch:   9Current Epoch:   9Current Epoch:   9Current Epoch:   9Current Epoch:   9Current Epoch:   9Current Epoch:   9Current Epoch:   9Current Epoch:   9Current Epoch:   9Current Epoch:   9Current Epoch:   9Current Epoch:   9Current Epoch:   9Current Epoch:   9Current Epoch:   9Current Epoch:   9Current Epoch:   9Current Epoch:   9Current Epoch:   9Current Epoch:   9Current Epoch:   9Current Epoch:   9Current Epoch:   9Current Epoch:   9Current Epoch:   9Current Epoch:   9Current Epoch:   9Current Epoch:   9Current Epoch:   9Current Epoch:   9Current Epoch:   9Current Epoch:   9Current Epoch:   9Current Epoch:   9Current Epoch:   9Current Epoch:   9Current Epoch:   9Current Epoch:   9Current Epoch:   9Current Epoch:   9Current Epoch:   9Current Epoch:   9Current Epoch:   9Current Epoch:   9Current Epoch:   9Current Epoch:   9Current Epoch:   9Current Epoch:   9Current Epoch:   9Current Epoch:   9Current Epoch:   9Current Epoch:   9Current Epoch:   9Current Epoch:   9Current Epoch:   9Current Epoch:   9Current Epoch:   9Current Epoch:   9Current Epoch:   9Current Epoch:   9Current Epoch:   9Current Epoch:   9Current Epoch:   9Current Epoch:   9Current Epoch:   9Current Epoch:   9Current Epoch:   9Current Epoch:   9Current Epoch:   9Current Epoch:   9Current Epoch:   9Current Epoch:   9Current Epoch:   9Current Epoch:   9Current Epoch:   9Current Epoch:   9Current Epoch:   9Current Epoch:   9Current Epoch:   9Current Epoch:   9Current Epoch:   9Current Epoch:   9Current Epoch:   9Current Epoch:   9Current Epoch:   9Current Epoch:   9Current Epoch:   9Current Epoch:   9Current Epoch:   9Current Epoch:   9Current Epoch:   9 | Loss: 1206.19 | Accuracy: 77.86 | Test Accuracy: 77.27\n",
            "Current Epoch:  10Current Epoch:  10Current Epoch:  10Current Epoch:  10Current Epoch:  10Current Epoch:  10Current Epoch:  10Current Epoch:  10Current Epoch:  10Current Epoch:  10Current Epoch:  10Current Epoch:  10Current Epoch:  10Current Epoch:  10Current Epoch:  10Current Epoch:  10Current Epoch:  10Current Epoch:  10Current Epoch:  10Current Epoch:  10Current Epoch:  10Current Epoch:  10Current Epoch:  10Current Epoch:  10Current Epoch:  10Current Epoch:  10Current Epoch:  10Current Epoch:  10Current Epoch:  10Current Epoch:  10Current Epoch:  10Current Epoch:  10Current Epoch:  10Current Epoch:  10Current Epoch:  10Current Epoch:  10Current Epoch:  10Current Epoch:  10Current Epoch:  10Current Epoch:  10Current Epoch:  10Current Epoch:  10Current Epoch:  10Current Epoch:  10Current Epoch:  10Current Epoch:  10Current Epoch:  10Current Epoch:  10Current Epoch:  10Current Epoch:  10Current Epoch:  10Current Epoch:  10Current Epoch:  10Current Epoch:  10Current Epoch:  10Current Epoch:  10Current Epoch:  10Current Epoch:  10Current Epoch:  10Current Epoch:  10Current Epoch:  10Current Epoch:  10Current Epoch:  10Current Epoch:  10Current Epoch:  10Current Epoch:  10Current Epoch:  10Current Epoch:  10Current Epoch:  10Current Epoch:  10Current Epoch:  10Current Epoch:  10Current Epoch:  10Current Epoch:  10Current Epoch:  10Current Epoch:  10Current Epoch:  10Current Epoch:  10Current Epoch:  10Current Epoch:  10Current Epoch:  10Current Epoch:  10Current Epoch:  10Current Epoch:  10Current Epoch:  10Current Epoch:  10Current Epoch:  10Current Epoch:  10Current Epoch:  10Current Epoch:  10Current Epoch:  10Current Epoch:  10Current Epoch:  10Current Epoch:  10Current Epoch:  10Current Epoch:  10Current Epoch:  10Current Epoch:  10Current Epoch:  10Current Epoch:  10Current Epoch:  10Current Epoch:  10Current Epoch:  10Current Epoch:  10Current Epoch:  10Current Epoch:  10Current Epoch:  10Current Epoch:  10Current Epoch:  10Current Epoch:  10Current Epoch:  10Current Epoch:  10Current Epoch:  10Current Epoch:  10Current Epoch:  10Current Epoch:  10Current Epoch:  10Current Epoch:  10Current Epoch:  10Current Epoch:  10Current Epoch:  10Current Epoch:  10Current Epoch:  10Current Epoch:  10Current Epoch:  10Current Epoch:  10Current Epoch:  10Current Epoch:  10Current Epoch:  10Current Epoch:  10Current Epoch:  10Current Epoch:  10Current Epoch:  10Current Epoch:  10Current Epoch:  10Current Epoch:  10Current Epoch:  10Current Epoch:  10Current Epoch:  10Current Epoch:  10Current Epoch:  10Current Epoch:  10Current Epoch:  10Current Epoch:  10Current Epoch:  10Current Epoch:  10Current Epoch:  10Current Epoch:  10Current Epoch:  10Current Epoch:  10Current Epoch:  10Current Epoch:  10Current Epoch:  10Current Epoch:  10Current Epoch:  10Current Epoch:  10Current Epoch:  10Current Epoch:  10Current Epoch:  10Current Epoch:  10Current Epoch:  10Current Epoch:  10Current Epoch:  10Current Epoch:  10Current Epoch:  10Current Epoch:  10Current Epoch:  10Current Epoch:  10Current Epoch:  10Current Epoch:  10Current Epoch:  10Current Epoch:  10Current Epoch:  10Current Epoch:  10Current Epoch:  10Current Epoch:  10Current Epoch:  10Current Epoch:  10Current Epoch:  10Current Epoch:  10Current Epoch:  10Current Epoch:  10Current Epoch:  10Current Epoch:  10Current Epoch:  10Current Epoch:  10Current Epoch:  10Current Epoch:  10Current Epoch:  10Current Epoch:  10Current Epoch:  10Current Epoch:  10Current Epoch:  10Current Epoch:  10Current Epoch:  10Current Epoch:  10Current Epoch:  10Current Epoch:  10Current Epoch:  10Current Epoch:  10Current Epoch:  10Current Epoch:  10Current Epoch:  10Current Epoch:  10Current Epoch:  10Current Epoch:  10Current Epoch:  10Current Epoch:  10Current Epoch:  10Current Epoch:  10Current Epoch:  10Current Epoch:  10Current Epoch:  10Current Epoch:  10Current Epoch:  10Current Epoch:  10Current Epoch:  10Current Epoch:  10Current Epoch:  10Current Epoch:  10Current Epoch:  10Current Epoch:  10Current Epoch:  10Current Epoch:  10Current Epoch:  10Current Epoch:  10Current Epoch:  10Current Epoch:  10Current Epoch:  10Current Epoch:  10Current Epoch:  10Current Epoch:  10Current Epoch:  10Current Epoch:  10Current Epoch:  10Current Epoch:  10Current Epoch:  10Current Epoch:  10Current Epoch:  10Current Epoch:  10Current Epoch:  10Current Epoch:  10Current Epoch:  10Current Epoch:  10Current Epoch:  10Current Epoch:  10Current Epoch:  10Current Epoch:  10Current Epoch:  10Current Epoch:  10Current Epoch:  10Current Epoch:  10Current Epoch:  10Current Epoch:  10Current Epoch:  10Current Epoch:  10Current Epoch:  10Current Epoch:  10Current Epoch:  10Current Epoch:  10Current Epoch:  10Current Epoch:  10Current Epoch:  10Current Epoch:  10Current Epoch:  10Current Epoch:  10Current Epoch:  10Current Epoch:  10Current Epoch:  10Current Epoch:  10Current Epoch:  10Current Epoch:  10Current Epoch:  10Current Epoch:  10Current Epoch:  10Current Epoch:  10Current Epoch:  10Current Epoch:  10Current Epoch:  10Current Epoch:  10Current Epoch:  10Current Epoch:  10Current Epoch:  10Current Epoch:  10Current Epoch:  10Current Epoch:  10Current Epoch:  10Current Epoch:  10Current Epoch:  10Current Epoch:  10Current Epoch:  10Current Epoch:  10Current Epoch:  10Current Epoch:  10Current Epoch:  10Current Epoch:  10Current Epoch:  10Current Epoch:  10Current Epoch:  10Current Epoch:  10Current Epoch:  10Current Epoch:  10Current Epoch:  10Current Epoch:  10Current Epoch:  10Current Epoch:  10Current Epoch:  10Current Epoch:  10Current Epoch:  10Current Epoch:  10Current Epoch:  10Current Epoch:  10Current Epoch:  10 | Loss: 1164.83 | Accuracy: 78.85 | Test Accuracy: 77.91\n"
          ]
        }
      ]
    },
    {
      "cell_type": "code",
      "source": [
        "len(traindata)"
      ],
      "metadata": {
        "colab": {
          "base_uri": "https://localhost:8080/"
        },
        "id": "sZEbj4YY3SMi",
        "outputId": "e66d0244-8f17-49e4-ba9e-27d735df9ded"
      },
      "execution_count": 137,
      "outputs": [
        {
          "output_type": "execute_result",
          "data": {
            "text/plain": [
              "60000"
            ]
          },
          "metadata": {},
          "execution_count": 137
        }
      ]
    },
    {
      "cell_type": "code",
      "source": [
        "device = torch.device('cuda' if torch.cuda.is_available() else 'cpu')\n",
        "prob=model(images.view(32,-1).to(device))\n",
        "(torch.argmax(prob,dim=1).to('cpu')==labels).sum().float()/32*100"
      ],
      "metadata": {
        "colab": {
          "base_uri": "https://localhost:8080/"
        },
        "id": "X9GwJK8z3WYr",
        "outputId": "7eb1866e-9d75-46b3-f23e-e3d834a14586"
      },
      "execution_count": 138,
      "outputs": [
        {
          "output_type": "execute_result",
          "data": {
            "text/plain": [
              "tensor(87.5000)"
            ]
          },
          "metadata": {},
          "execution_count": 138
        }
      ]
    }
  ]
}